{
  "nbformat": 4,
  "nbformat_minor": 0,
  "metadata": {
    "colab": {
      "provenance": []
    },
    "kernelspec": {
      "name": "python3",
      "display_name": "Python 3"
    },
    "language_info": {
      "name": "python"
    }
  },
  "cells": [
    {
      "cell_type": "code",
      "execution_count": null,
      "metadata": {
        "id": "wB5CNL3jGCZT"
      },
      "outputs": [],
      "source": [
        "import numpy as np\n",
        "import pandas as pd\n",
        "from scipy.sparse import csc_matrix\n",
        "import matplotlib.pyplot as plt\n",
        "import matplotlib.dates as mdates\n",
        "import h5py\n",
        "\n",
        "from sklearn import model_selection, feature_selection, linear_model, metrics"
      ]
    },
    {
      "cell_type": "code",
      "source": [
        "print(\"Import data\")\n",
        "\n",
        "X = pd.read_hdf('drive/My Drive/data_window_botnet3.h5', key='data')\n",
        "X.reset_index(drop=True, inplace=True)\n",
        "\n",
        "X2 = pd.read_hdf('drive/My Drive/data_window3_botnet3.h5', key='data')\n",
        "X2.reset_index(drop=True, inplace=True)\n",
        "\n",
        "X = X.join(X2)\n",
        "\n",
        "X.drop('window_id', axis=1, inplace=True)\n",
        "\n",
        "y = X['Label_<lambda>']\n",
        "X.drop('Label_<lambda>', axis=1, inplace=True)\n",
        "\n",
        "labels = np.load(\"drive/My Drive/data_window_botnet3_labels.npy\",allow_pickle=True)\n",
        "#print(X)\n",
        "#print(y)\n",
        "print(X.columns.values)\n",
        "print(labels)\n",
        "\n",
        "y_bin6 = y==6\n",
        "X_train, X_test, y_train, y_test = model_selection.train_test_split(X, y_bin6, test_size=0.33, random_state=123456)\n",
        "#y_train_bin6 = y_train==6\n",
        "#y_test_bin6 = y_test==6\n",
        "\n",
        "print(\"y\", np.unique(y, return_counts=True))\n",
        "print(\"y_train\", np.unique(y_train, return_counts=True))\n",
        "print(\"y_test\", np.unique(y_test, return_counts=True))"
      ],
      "metadata": {
        "colab": {
          "base_uri": "https://localhost:8080/"
        },
        "id": "ggx5W493GQu8",
        "outputId": "50c91c23-e0c4-4c28-e359-4b09e4d8efe4"
      },
      "execution_count": null,
      "outputs": [
        {
          "output_type": "stream",
          "name": "stdout",
          "text": [
            "Import data\n",
            "['counts' 'Sport_nunique' 'DstAddr_nunique' 'Dport_nunique' 'Dur_sum'\n",
            " 'Dur_mean' 'Dur_std' 'Dur_max' 'Dur_median' 'TotBytes_sum'\n",
            " 'TotBytes_mean' 'TotBytes_std' 'TotBytes_max' 'TotBytes_median'\n",
            " 'SrcBytes_sum' 'SrcBytes_mean' 'SrcBytes_std' 'SrcBytes_max'\n",
            " 'SrcBytes_median' 'Sport_RU' 'DstAddr_RU' 'Dport_RU']\n",
            "['flow=Background' 'flow=From-Norma' 'flow=Normal-V44' 'flow=From-Backg'\n",
            " 'flow=To-Backgro' 'flow=To-Normal-' 'flow=From-Botne']\n",
            "y (array([0, 1, 2, 3, 4, 5, 6]), array([1903499,    5483,       5,     986,  112392,     679,    1009]))\n",
            "y_train (array([False,  True]), array([1355453,     662]))\n",
            "y_test (array([False,  True]), array([667591,    347]))\n"
          ]
        }
      ]
    },
    {
      "cell_type": "code",
      "source": [
        "## Embedded Method\n",
        "print(\"Logistic Regression\")\n",
        "\n",
        "clf = linear_model.LogisticRegression(penalty='l2', C=1.0, random_state=123456, multi_class=\"auto\", class_weight=None, solver=\"lbfgs\", max_iter=1000, verbose=1)\n",
        "clf.fit(X_train, y_train)\n",
        "#print(clf.classes_)\n",
        "print(clf.coef_)\n",
        "print(clf.intercept_)\n",
        "\n",
        "y_pred = clf.predict(X_test)\n",
        "#y_pred_bin6 = y_pred==6\n",
        "#print(clf.predict_proba(X_test))\n",
        "print(\"accuracy score = \", metrics.balanced_accuracy_score(y_test, y_pred))\n",
        "precision, recall, fbeta_score, support = metrics.precision_recall_fscore_support(y_test, y_pred)\n",
        "print(\"precision = \", precision[1])\n",
        "print(\"recall = \", recall[1])\n",
        "print(\"fbeta_score = \", fbeta_score[1])\n",
        "print(\"support = \", support[1])\n",
        "\n",
        "clf = linear_model.LogisticRegression(penalty='l2', C=1.0, random_state=123456, multi_class=\"auto\", class_weight='balanced', solver=\"lbfgs\", max_iter=1000, verbose=1)\n",
        "clf.fit(X_train, y_train)"
      ],
      "metadata": {
        "colab": {
          "base_uri": "https://localhost:8080/"
        },
        "id": "inJwUkWkjn39",
        "outputId": "37fe385d-5b8c-4cc4-a642-6b85cf5e672e"
      },
      "execution_count": null,
      "outputs": [
        {
          "output_type": "stream",
          "name": "stdout",
          "text": [
            "Logistic Regression\n"
          ]
        },
        {
          "output_type": "stream",
          "name": "stderr",
          "text": [
            "[Parallel(n_jobs=1)]: Using backend SequentialBackend with 1 concurrent workers.\n",
            "[Parallel(n_jobs=1)]: Done   1 out of   1 | elapsed:   45.6s finished\n"
          ]
        },
        {
          "output_type": "stream",
          "name": "stdout",
          "text": [
            "[[-12.7300268    4.49402253   1.14320967  -3.38644915  -4.06431894\n",
            "    0.63903042  -1.39606503   0.7825373    0.73065905  -1.0251572\n",
            "   -0.1021964   -0.14445409  -0.17309872  -0.09232024  -0.70083035\n",
            "   -0.06365598  -0.06477286  -0.09801864  -0.0571462    3.35793649\n",
            "    1.9703999   -1.9060548 ]]\n",
            "[-11.72852997]\n",
            "accuracy score =  0.9207447857695161\n",
            "precision =  0.9798657718120806\n",
            "recall =  0.8414985590778098\n",
            "fbeta_score =  0.9054263565891473\n",
            "support =  347\n"
          ]
        },
        {
          "output_type": "stream",
          "name": "stderr",
          "text": [
            "[Parallel(n_jobs=1)]: Using backend SequentialBackend with 1 concurrent workers.\n",
            "[Parallel(n_jobs=1)]: Done   1 out of   1 | elapsed:  1.7min finished\n"
          ]
        },
        {
          "output_type": "execute_result",
          "data": {
            "text/plain": [
              "LogisticRegression(class_weight='balanced', max_iter=1000, random_state=123456,\n",
              "                   verbose=1)"
            ]
          },
          "metadata": {},
          "execution_count": 4
        }
      ]
    },
    {
      "cell_type": "code",
      "source": [
        "#print(clf.classes_)\n",
        "print(clf.coef_)\n",
        "print(clf.intercept_)\n",
        "\n",
        "y_pred = clf.predict(X_test)\n",
        "#y_pred_bin6 = y_pred==6\n",
        "#print(clf.predict_proba(X_test))\n",
        "print(\"accuracy score = \", metrics.balanced_accuracy_score(y_test, y_pred))\n",
        "precision, recall, fbeta_score, support = metrics.precision_recall_fscore_support(y_test, y_pred)\n",
        "print(\"precision = \", precision[1])\n",
        "print(\"recall = \", recall[1])\n",
        "print(\"fbeta_score = \", fbeta_score[1])\n",
        "print(\"support = \", support[1])\n",
        "\n",
        "clf = linear_model.LogisticRegression(penalty='l2', C=1.0, random_state=123456, multi_class=\"auto\", class_weight={0:0.5, 1:0.5}, solver=\"lbfgs\", max_iter=1000, verbose=1)\n",
        "clf.fit(X_train, y_train)"
      ],
      "metadata": {
        "colab": {
          "base_uri": "https://localhost:8080/"
        },
        "id": "J4UDp_1MkyRp",
        "outputId": "53b214ac-b3f3-4389-e5c6-9c56bf305e2d"
      },
      "execution_count": null,
      "outputs": [
        {
          "output_type": "stream",
          "name": "stdout",
          "text": [
            "[[-30.88407366  10.11525867   2.25933748   1.00393705 -12.04662231\n",
            "    8.03011017  -0.44585853   0.82376994  -4.5615298   -4.29957497\n",
            "    0.07690348   0.30405646  -0.44241573  -0.95719713  -2.32425672\n",
            "    1.1491588   -0.67370243  -0.09689561   1.38809954  -0.24707352\n",
            "    0.49439055  -0.90777408]]\n",
            "[-4.4272191]\n",
            "accuracy score =  0.9742221307851189\n",
            "precision =  0.01750490550449241\n",
            "recall =  0.9769452449567724\n",
            "fbeta_score =  0.03439354740526556\n",
            "support =  347\n"
          ]
        },
        {
          "output_type": "stream",
          "name": "stderr",
          "text": [
            "[Parallel(n_jobs=1)]: Using backend SequentialBackend with 1 concurrent workers.\n",
            "[Parallel(n_jobs=1)]: Done   1 out of   1 | elapsed:   37.7s finished\n"
          ]
        },
        {
          "output_type": "execute_result",
          "data": {
            "text/plain": [
              "LogisticRegression(class_weight={0: 0.5, 1: 0.5}, max_iter=1000,\n",
              "                   random_state=123456, verbose=1)"
            ]
          },
          "metadata": {},
          "execution_count": 5
        }
      ]
    },
    {
      "cell_type": "code",
      "source": [
        "#print(clf.classes_)\n",
        "print(clf.coef_)\n",
        "print(clf.intercept_)\n",
        "\n",
        "y_pred = clf.predict(X_test)\n",
        "#y_pred_bin6 = y_pred==6\n",
        "#print(clf.predict_proba(X_test))\n",
        "print(\"accuracy score = \", metrics.balanced_accuracy_score(y_test, y_pred))\n",
        "precision, recall, fbeta_score, support = metrics.precision_recall_fscore_support(y_test, y_pred)\n",
        "print(\"precision = \", precision[1])\n",
        "print(\"recall = \", recall[1])\n",
        "print(\"fbeta_score = \", fbeta_score[1])\n",
        "print(\"support = \", support[1])"
      ],
      "metadata": {
        "colab": {
          "base_uri": "https://localhost:8080/"
        },
        "id": "ElHX60w1k1a8",
        "outputId": "55991d23-8536-48e4-fab2-459aba9482ae"
      },
      "execution_count": null,
      "outputs": [
        {
          "output_type": "stream",
          "name": "stdout",
          "text": [
            "[[-9.93099513  3.79526125  0.97520262 -2.41832508 -3.44171513  0.66917922\n",
            "  -1.1166983   0.45095942  0.72638471 -0.78761457 -0.07281281 -0.10666677\n",
            "  -0.14531606 -0.06562597 -0.4755926  -0.04365187 -0.04174843 -0.06212565\n",
            "  -0.04059652  4.11922445  2.05655705 -1.89288455]]\n",
            "[-11.56212469]\n",
            "accuracy score =  0.9207447857695161\n",
            "precision =  0.9798657718120806\n",
            "recall =  0.8414985590778098\n",
            "fbeta_score =  0.9054263565891473\n",
            "support =  347\n"
          ]
        }
      ]
    },
    {
      "cell_type": "code",
      "source": [
        "#main problems:\n",
        "#with class_weight='balanced', super high recall but very low precision\n",
        "#without, high precision but very low recall\n",
        "#accuracy score not a good metric (even balanced_accuracy)\n",
        "\n",
        "print(\"Logistic Regression Cross Validation\")\n",
        "\n",
        "def apply_logreg_cross_validation(X, y, svc_args={'penalty':'l2', 'C':1.0, 'random_state':123456, 'multi_class':\"auto\", 'class_weight':None, 'solver':\"lbfgs\", 'max_iter':1000, 'verbose':1}):\n",
        "    clf = linear_model.LogisticRegression(**svc_args)\n",
        "    cv = model_selection.ShuffleSplit(n_splits=10, test_size=0.1, random_state=123456)\n",
        "    scores = model_selection.cross_validate(clf, X, y, cv=cv, scoring=['precision', 'recall', 'f1'], return_train_score=True)\n",
        "    print(scores)\n",
        "    return [np.mean(scores['test_precision']), np.mean(scores['test_recall']), np.mean(scores['test_f1'])]\n",
        "\n",
        "tab_class_weight = np.linspace(0, 0.1, 10)\n",
        "print(tab_class_weight)\n",
        "\n",
        "tab_score = np.array([apply_logreg_cross_validation(X_train, y_train, {'penalty':'l2', 'C':1.0, 'random_state':123456, 'multi_class':\"auto\", 'class_weight':{0:w, 1:1-w}, 'solver':\"lbfgs\", 'max_iter':1000, 'verbose':0}) for w in tab_class_weight])\n",
        "print(tab_score)\n",
        "\n",
        "plt.plot(tab_class_weight, tab_score[:, 0])\n",
        "plt.plot(tab_class_weight, tab_score[:, 1])\n",
        "plt.plot(tab_class_weight, tab_score[:, 2])\n",
        "plt.legend([\"test_precision\", \"test_recall\", \"test_f1\"])\n",
        "plt.xlabel(\"Botnet class weight\")\n",
        "\n",
        "plt.tight_layout(rect=[0, 0.03, 1, 0.95])\n",
        "plt.savefig(\"cross_validation_class_weight.pdf\", format=\"pdf\")\n",
        "plt.show()\n"
      ],
      "metadata": {
        "colab": {
          "base_uri": "https://localhost:8080/"
        },
        "id": "sUnd6Aj9lEGX",
        "outputId": "669dff57-778b-48ad-e316-15d9ac06df79"
      },
      "execution_count": null,
      "outputs": [
        {
          "output_type": "stream",
          "name": "stdout",
          "text": [
            "Logistic Regression Cross Validation\n",
            "[0.         0.01111111 0.02222222 0.03333333 0.04444444 0.05555556\n",
            " 0.06666667 0.07777778 0.08888889 0.1       ]\n",
            "{'fit_time': array([8.36906052, 8.40801048, 8.40606046, 8.64292359, 8.59305692,\n",
            "       8.55821371, 9.07074785, 8.24736547, 9.0198667 , 8.84454179]), 'score_time': array([0.17317772, 0.17282152, 0.17236757, 0.17933369, 0.17332029,\n",
            "       0.17888665, 0.1731298 , 0.17219615, 0.17176962, 0.17451024]), 'test_precision': array([0.00044244, 0.00048668, 0.0005088 , 0.00044244, 0.00056042,\n",
            "       0.00049406, 0.00055305, 0.00045719, 0.00049406, 0.00064891]), 'train_precision': array([0.00049324, 0.00048832, 0.00048587, 0.00049324, 0.00048013,\n",
            "       0.0004875 , 0.00048095, 0.0004916 , 0.0004875 , 0.0004703 ]), 'test_recall': array([1., 1., 1., 1., 1., 1., 1., 1., 1., 1.]), 'train_recall': array([1., 1., 1., 1., 1., 1., 1., 1., 1., 1.]), 'test_f1': array([0.00088449, 0.00097289, 0.00101709, 0.00088449, 0.00112022,\n",
            "       0.00098763, 0.00110549, 0.00091396, 0.00098763, 0.00129698]), 'train_f1': array([0.00098599, 0.00097617, 0.00097126, 0.00098599, 0.0009598 ,\n",
            "       0.00097453, 0.00096144, 0.00098272, 0.00097453, 0.00094015])}\n",
            "{'fit_time': array([16.86831522, 18.25792193, 18.31903052, 15.94482923, 20.02559638,\n",
            "       17.06129837, 17.87892795, 20.08791614, 21.6982677 , 19.08973002]), 'score_time': array([0.17275739, 0.17155838, 0.17224526, 0.17362881, 0.17812896,\n",
            "       0.17516255, 0.17439485, 0.17534637, 0.17342687, 0.18578339]), 'test_precision': array([0.27222222, 0.41428571, 0.40909091, 0.43965517, 0.37988827,\n",
            "       0.33529412, 0.39655172, 0.42622951, 0.24757282, 0.6015625 ]), 'train_precision': array([0.29762594, 0.38084465, 0.40268987, 0.46886447, 0.35331906,\n",
            "       0.34189189, 0.3571945 , 0.48390152, 0.28828829, 0.48358209]), 'test_recall': array([0.81666667, 0.87878788, 0.7826087 , 0.85      , 0.89473684,\n",
            "       0.85074627, 0.92      , 0.83870968, 0.76119403, 0.875     ]), 'train_recall': array([0.8538206 , 0.84731544, 0.85834739, 0.85049834, 0.8447099 ,\n",
            "       0.85042017, 0.84156729, 0.85166667, 0.8605042 , 0.8466899 ]), 'test_f1': array([0.40833333, 0.5631068 , 0.53731343, 0.57954545, 0.53333333,\n",
            "       0.48101266, 0.55421687, 0.56521739, 0.37362637, 0.71296296]), 'train_f1': array([0.44139116, 0.52549428, 0.54819602, 0.60448642, 0.49823855,\n",
            "       0.48771084, 0.50152284, 0.61714976, 0.43188528, 0.61557948])}\n",
            "{'fit_time': array([23.94661617, 20.27562141, 21.71873927, 20.33387184, 20.38216352,\n",
            "       19.69620943, 22.07025552, 22.66777468, 16.9515121 , 20.02373719]), 'score_time': array([0.17820787, 0.18386865, 0.17928076, 0.18009686, 0.1729002 ,\n",
            "       0.18503666, 0.18057799, 0.18420577, 0.18309069, 0.18206358]), 'test_precision': array([0.96078431, 0.86567164, 0.83076923, 0.796875  , 0.82926829,\n",
            "       0.86363636, 0.85185185, 0.76470588, 0.89473684, 0.90588235]), 'train_precision': array([0.84539474, 0.85016835, 0.85546218, 0.84768212, 0.85051546,\n",
            "       0.85328836, 0.85025818, 0.85166667, 0.85049834, 0.8466899 ]), 'test_recall': array([0.81666667, 0.87878788, 0.7826087 , 0.85      , 0.89473684,\n",
            "       0.85074627, 0.92      , 0.83870968, 0.76119403, 0.875     ]), 'train_recall': array([0.8538206 , 0.84731544, 0.85834739, 0.85049834, 0.8447099 ,\n",
            "       0.85042017, 0.84156729, 0.85166667, 0.8605042 , 0.8466899 ]), 'test_f1': array([0.88288288, 0.87218045, 0.80597015, 0.82258065, 0.86075949,\n",
            "       0.85714286, 0.88461538, 0.8       , 0.82258065, 0.89017341]), 'train_f1': array([0.84958678, 0.8487395 , 0.85690236, 0.84908789, 0.84760274,\n",
            "       0.85185185, 0.84589041, 0.85166667, 0.85547201, 0.8466899 ])}\n",
            "{'fit_time': array([23.29670954, 23.70224261, 23.7053287 , 21.93718123, 22.65849662,\n",
            "       26.22982669, 22.68988013, 23.23050308, 23.93867302, 25.64795446]), 'score_time': array([0.17430615, 0.17325592, 0.17191768, 0.17223263, 0.17306042,\n",
            "       0.17393041, 0.17480063, 0.17392349, 0.17261052, 0.17573214]), 'test_precision': array([0.96078431, 0.89230769, 0.85714286, 0.80952381, 0.87179487,\n",
            "       0.87692308, 0.87341772, 0.78787879, 0.91071429, 0.92771084]), 'train_precision': array([0.86677909, 0.87370242, 0.87607573, 0.87521368, 0.87610619,\n",
            "       0.87241379, 0.87433628, 0.87800687, 0.8707483 , 0.86631016]), 'test_recall': array([0.81666667, 0.87878788, 0.7826087 , 0.85      , 0.89473684,\n",
            "       0.85074627, 0.92      , 0.83870968, 0.76119403, 0.875     ]), 'train_recall': array([0.8538206 , 0.84731544, 0.85834739, 0.85049834, 0.8447099 ,\n",
            "       0.85042017, 0.84156729, 0.85166667, 0.8605042 , 0.8466899 ]), 'test_f1': array([0.88288288, 0.88549618, 0.81818182, 0.82926829, 0.88311688,\n",
            "       0.86363636, 0.8961039 , 0.8125    , 0.82926829, 0.9005848 ]), 'train_f1': array([0.86025105, 0.86030664, 0.86712095, 0.86267902, 0.86012163,\n",
            "       0.8612766 , 0.85763889, 0.86463621, 0.86559594, 0.85638767])}\n",
            "{'fit_time': array([23.66679931, 21.54817438, 19.39773679, 25.75153899, 24.81944966,\n",
            "       29.45050645, 25.50046182, 21.70541263, 25.75968218, 23.22380447]), 'score_time': array([0.17298365, 0.17433405, 0.17708874, 0.17466855, 0.17422843,\n",
            "       0.17359996, 0.17346764, 0.17655492, 0.17584133, 0.18681073]), 'test_precision': array([0.98      , 0.92063492, 0.8852459 , 0.83606557, 0.87179487,\n",
            "       0.890625  , 0.88461538, 0.8       , 0.92727273, 0.93902439]), 'train_precision': array([0.88316151, 0.88441331, 0.88830716, 0.89043478, 0.89189189,\n",
            "       0.89399293, 0.89009009, 0.88869565, 0.89198606, 0.88043478]), 'test_recall': array([0.81666667, 0.87878788, 0.7826087 , 0.85      , 0.89473684,\n",
            "       0.85074627, 0.92      , 0.83870968, 0.76119403, 0.875     ]), 'train_recall': array([0.8538206 , 0.84731544, 0.85834739, 0.85049834, 0.8447099 ,\n",
            "       0.85042017, 0.84156729, 0.85166667, 0.8605042 , 0.8466899 ]), 'test_f1': array([0.89090909, 0.89922481, 0.83076923, 0.84297521, 0.88311688,\n",
            "       0.87022901, 0.90196078, 0.81889764, 0.83606557, 0.90588235]), 'train_f1': array([0.86824324, 0.86546701, 0.87307033, 0.8700085 , 0.86765995,\n",
            "       0.87166236, 0.86514886, 0.86978723, 0.87596236, 0.86323268])}\n",
            "{'fit_time': array([30.16204095, 25.25149059, 31.48381424, 24.83507729, 25.6095922 ,\n",
            "       34.21247458, 21.80408382, 25.63198471, 22.97005892, 26.64199638]), 'score_time': array([0.17413545, 0.18120408, 0.17868233, 0.177145  , 0.1748693 ,\n",
            "       0.17391729, 0.17160153, 0.18311787, 0.18350244, 0.17198491]), 'test_precision': array([1.        , 0.92063492, 0.8852459 , 0.85      , 0.89473684,\n",
            "       0.890625  , 0.88461538, 0.83870968, 0.92727273, 0.95061728]), 'train_precision': array([0.88927336, 0.89539007, 0.89929329, 0.90140845, 0.89836661,\n",
            "       0.89875666, 0.89981785, 0.90442478, 0.89354276, 0.89010989]), 'test_recall': array([0.81666667, 0.87878788, 0.7826087 , 0.85      , 0.89473684,\n",
            "       0.85074627, 0.92      , 0.83870968, 0.76119403, 0.875     ]), 'train_recall': array([0.8538206 , 0.84731544, 0.85834739, 0.85049834, 0.8447099 ,\n",
            "       0.85042017, 0.84156729, 0.85166667, 0.8605042 , 0.8466899 ]), 'test_f1': array([0.89908257, 0.89922481, 0.83076923, 0.85      , 0.89473684,\n",
            "       0.87022901, 0.90196078, 0.83870968, 0.83606557, 0.9112426 ]), 'train_f1': array([0.87118644, 0.87068966, 0.8783434 , 0.87521368, 0.8707124 ,\n",
            "       0.87392055, 0.86971831, 0.87725322, 0.87671233, 0.86785714])}\n",
            "{'fit_time': array([32.4282577 , 30.5925169 , 27.80555558, 24.32554126, 26.32315922,\n",
            "       23.74355531, 29.56701732, 25.14080524, 27.78515983, 25.10560465]), 'score_time': array([0.1722486 , 0.17791224, 0.17275691, 0.17185068, 0.17289925,\n",
            "       0.17723107, 0.17367029, 0.17337632, 0.17173576, 0.17215014]), 'test_precision': array([1.        , 0.92063492, 0.8852459 , 0.85      , 0.89473684,\n",
            "       0.890625  , 0.88461538, 0.83870968, 0.94444444, 0.95061728]), 'train_precision': array([0.90333919, 0.89857651, 0.89929329, 0.90299824, 0.89836661,\n",
            "       0.91007194, 0.89981785, 0.90442478, 0.91592129, 0.89174312]), 'test_recall': array([0.81666667, 0.87878788, 0.7826087 , 0.85      , 0.89473684,\n",
            "       0.85074627, 0.92      , 0.83870968, 0.76119403, 0.875     ]), 'train_recall': array([0.8538206 , 0.84731544, 0.85834739, 0.85049834, 0.8447099 ,\n",
            "       0.85042017, 0.84156729, 0.85166667, 0.8605042 , 0.8466899 ]), 'test_f1': array([0.89908257, 0.89922481, 0.83076923, 0.85      , 0.89473684,\n",
            "       0.87022901, 0.90196078, 0.83870968, 0.84297521, 0.9112426 ]), 'train_f1': array([0.87788215, 0.87219344, 0.8783434 , 0.87596236, 0.8707124 ,\n",
            "       0.87923545, 0.86971831, 0.87725322, 0.88734835, 0.86863271])}\n",
            "{'fit_time': array([28.77280998, 25.42842364, 32.19028163, 33.86645532, 27.8405261 ,\n",
            "       30.23635745, 30.85531425, 24.83304048, 22.95731616, 21.98403478]), 'score_time': array([0.17361927, 0.17644715, 0.17299414, 0.17613053, 0.17325449,\n",
            "       0.17243838, 0.17213821, 0.17587256, 0.17352653, 0.17477131]), 'test_precision': array([1.        , 0.95081967, 0.93103448, 0.86440678, 0.90666667,\n",
            "       0.91935484, 0.90789474, 0.83870968, 0.96226415, 0.98717949]), 'train_precision': array([0.94311927, 0.94569288, 0.92545455, 0.91428571, 0.92178771,\n",
            "       0.94579439, 0.91143911, 0.91087344, 0.94290976, 0.94186047]), 'test_recall': array([0.81666667, 0.87878788, 0.7826087 , 0.85      , 0.89473684,\n",
            "       0.85074627, 0.92      , 0.83870968, 0.76119403, 0.875     ]), 'train_recall': array([0.8538206 , 0.84731544, 0.85834739, 0.85049834, 0.8447099 ,\n",
            "       0.85042017, 0.84156729, 0.85166667, 0.8605042 , 0.8466899 ]), 'test_f1': array([0.89908257, 0.91338583, 0.8503937 , 0.85714286, 0.90066225,\n",
            "       0.88372093, 0.91390728, 0.83870968, 0.85      , 0.92771084]), 'train_f1': array([0.89625109, 0.89380531, 0.89063867, 0.88123924, 0.88156723,\n",
            "       0.89557522, 0.87511072, 0.88027562, 0.89982425, 0.89174312])}\n",
            "{'fit_time': array([31.7921164 , 26.6333077 , 29.9877224 , 26.24837351, 27.57794833,\n",
            "       26.56664062, 23.38215137, 30.12047815, 28.36628485, 26.56961632]), 'score_time': array([0.17132425, 0.18172932, 0.17296219, 0.17344713, 0.17691803,\n",
            "       0.17353654, 0.1726954 , 0.17634869, 0.17232442, 0.17897081]), 'test_precision': array([1.        , 0.95081967, 0.93103448, 0.91071429, 0.91891892,\n",
            "       0.91935484, 0.95833333, 0.89655172, 0.96226415, 0.98717949]), 'train_precision': array([0.94833948, 0.95103578, 0.95140187, 0.94814815, 0.95375723,\n",
            "       0.94756554, 0.94636015, 0.94981413, 0.94639556, 0.94552529]), 'test_recall': array([0.81666667, 0.87878788, 0.7826087 , 0.85      , 0.89473684,\n",
            "       0.85074627, 0.92      , 0.83870968, 0.76119403, 0.875     ]), 'train_recall': array([0.8538206 , 0.84731544, 0.85834739, 0.85049834, 0.8447099 ,\n",
            "       0.85042017, 0.84156729, 0.85166667, 0.8605042 , 0.8466899 ]), 'test_f1': array([0.89908257, 0.91338583, 0.8503937 , 0.87931034, 0.90666667,\n",
            "       0.88372093, 0.93877551, 0.86666667, 0.85      , 0.92771084]), 'train_f1': array([0.8986014 , 0.89618456, 0.90248227, 0.8966725 , 0.8959276 ,\n",
            "       0.89636847, 0.8908927 , 0.89806678, 0.90140845, 0.89338235])}\n",
            "{'fit_time': array([31.51925516, 24.06890464, 34.06157613, 33.1648314 , 30.96072698,\n",
            "       26.18152428, 30.65900469, 33.79867625, 31.76984549, 38.87393665]), 'score_time': array([0.17779088, 0.17930841, 0.17566872, 0.17409635, 0.17281651,\n",
            "       0.17377996, 0.17634726, 0.17377305, 0.1752069 , 0.17342615]), 'test_precision': array([1.        , 0.96666667, 0.93103448, 0.92727273, 0.91891892,\n",
            "       0.91935484, 0.95833333, 0.89655172, 0.96226415, 0.98717949]), 'train_precision': array([0.95185185, 0.95274102, 0.95318352, 0.94990724, 0.95551257,\n",
            "       0.95643939, 0.94990366, 0.95149254, 0.94990724, 0.94911937]), 'test_recall': array([0.81666667, 0.87878788, 0.7826087 , 0.85      , 0.89473684,\n",
            "       0.85074627, 0.92      , 0.83870968, 0.76119403, 0.875     ]), 'train_recall': array([0.8538206 , 0.84563758, 0.85834739, 0.85049834, 0.84300341,\n",
            "       0.8487395 , 0.83986371, 0.85      , 0.8605042 , 0.84494774]), 'test_f1': array([0.89908257, 0.92063492, 0.8503937 , 0.88695652, 0.90666667,\n",
            "       0.88372093, 0.93877551, 0.86666667, 0.85      , 0.92771084]), 'train_f1': array([0.90017513, 0.896     , 0.90328305, 0.89745837, 0.89573889,\n",
            "       0.89937667, 0.8915009 , 0.89788732, 0.90299824, 0.89400922])}\n",
            "[[5.08804531e-04 1.00000000e+00 1.01708424e-03]\n",
            " [3.92235295e-01 8.46845006e-01 5.30866860e-01]\n",
            " [8.56418177e-01 8.46845006e-01 8.49888592e-01]\n",
            " [8.76819826e-01 8.46845006e-01 8.60103941e-01]\n",
            " [8.93527877e-01 8.46845006e-01 8.68003057e-01]\n",
            " [9.04245774e-01 8.46845006e-01 8.73202109e-01]\n",
            " [9.05962945e-01 8.46845006e-01 8.73893073e-01]\n",
            " [9.26833049e-01 8.46845006e-01 8.83471594e-01]\n",
            " [9.43517089e-01 8.46845006e-01 8.91571306e-01]\n",
            " [9.46757633e-01 8.46845006e-01 8.93060833e-01]]\n"
          ]
        },
        {
          "output_type": "display_data",
          "data": {
            "text/plain": [
              "<Figure size 432x288 with 1 Axes>"
            ],
            "image/png": "[encoded data removed]"
          },
          "metadata": {
            "needs_background": "light"
          }
        }
      ]
    },
    {
      "cell_type": "code",
      "source": [
        "# Results: class_weight_best = 0.044\n",
        "\n",
        "def apply_logreg_cross_validation_coeff(X, y, svc_args={'penalty':'l2', 'C':1.0, 'random_state':123456, 'multi_class':\"auto\", 'class_weight':None, 'solver':\"lbfgs\", 'max_iter':1000, 'verbose':1}):\n",
        "    clf = linear_model.LogisticRegression(**svc_args)\n",
        "    #cv = model_selection.ShuffleSplit(n_splits=10, test_size=0.1, random_state=123456) #for l2\n",
        "    cv = model_selection.ShuffleSplit(n_splits=3, test_size=0.1, random_state=123456) #for l1\n",
        "    scores = model_selection.cross_validate(clf, X, y, cv=cv, scoring=['precision', 'recall', 'f1'], return_train_score=True, return_estimator=True)\n",
        "    print(scores)\n",
        "    return [np.mean(scores['test_precision']), np.mean(scores['test_recall']), np.mean(scores['test_f1']), np.mean([model.coef_[0] for model in scores['estimator']], axis=0)]\n",
        "\n",
        "tab_C = np.logspace(-2, 6, 9)\n",
        "tab_logC = np.log10(tab_C)\n",
        "print(tab_C)\n",
        "print(tab_logC)\n",
        "\n",
        "tab_score = np.array([apply_logreg_cross_validation_coeff(X_train, y_train, {'penalty':'l2', 'C':C, 'random_state':123456, 'multi_class':\"auto\", 'class_weight':{0:0.044, 1:1-0.044}, 'solver':\"lbfgs\", 'max_iter':1000, 'verbose':0}) for C in tab_C])\n",
        "print(tab_score)\n",
        "\n",
        "plt.plot(tab_logC, tab_score[:, 0])\n",
        "plt.plot(tab_logC, tab_score[:, 1])\n",
        "plt.plot(tab_logC, tab_score[:, 2])\n",
        "plt.legend([\"test_precision\", \"test_recall\", \"test_f1\"])\n",
        "plt.xlabel(\"log(C)\")\n",
        "\n",
        "plt.tight_layout(rect=[0, 0.03, 1, 0.95])\n",
        "plt.savefig(\"cross_validation_C.pdf\", format=\"pdf\")\n",
        "plt.show()\n",
        "\n",
        "matrix_coeff = np.stack(tab_score[:, 3], axis=0)\n",
        "print(matrix_coeff)\n",
        "print(matrix_coeff.shape)\n"
      ],
      "metadata": {
        "id": "lrY20BZ1lLLW",
        "colab": {
          "base_uri": "https://localhost:8080/",
          "height": 1000
        },
        "outputId": "0f1682b1-c484-4f6a-c5c0-a9a368dc10f4"
      },
      "execution_count": null,
      "outputs": [
        {
          "output_type": "stream",
          "name": "stdout",
          "text": [
            "[1.e-02 1.e-01 1.e+00 1.e+01 1.e+02 1.e+03 1.e+04 1.e+05 1.e+06]\n",
            "[-2. -1.  0.  1.  2.  3.  4.  5.  6.]\n",
            "{'fit_time': array([7.79687953, 5.972507  , 6.30444145]), 'score_time': array([0.17484021, 0.1750071 , 0.17432499]), 'estimator': [LogisticRegression(C=0.01, class_weight={0: 0.044, 1: 0.956}, max_iter=1000,\n",
            "                   random_state=123456), LogisticRegression(C=0.01, class_weight={0: 0.044, 1: 0.956}, max_iter=1000,\n",
            "                   random_state=123456), LogisticRegression(C=0.01, class_weight={0: 0.044, 1: 0.956}, max_iter=1000,\n",
            "                   random_state=123456)], 'test_precision': array([0.72058824, 0.73417722, 0.6835443 ]), 'train_precision': array([0.69891008, 0.69517241, 0.70068966]), 'test_recall': array([0.81666667, 0.87878788, 0.7826087 ]), 'train_recall': array([0.85215947, 0.84563758, 0.85666105]), 'test_f1': array([0.765625  , 0.8       , 0.72972973]), 'train_f1': array([0.76796407, 0.76305829, 0.77086495])}\n",
            "{'fit_time': array([12.63797235, 11.91131568, 12.44213462]), 'score_time': array([0.17854595, 0.17858005, 0.1840086 ]), 'estimator': [LogisticRegression(C=0.1, class_weight={0: 0.044, 1: 0.956}, max_iter=1000,\n",
            "                   random_state=123456), LogisticRegression(C=0.1, class_weight={0: 0.044, 1: 0.956}, max_iter=1000,\n",
            "                   random_state=123456), LogisticRegression(C=0.1, class_weight={0: 0.044, 1: 0.956}, max_iter=1000,\n",
            "                   random_state=123456)], 'test_precision': array([0.9245283 , 0.84057971, 0.79411765]), 'train_precision': array([0.79813665, 0.80286169, 0.80793651]), 'test_recall': array([0.81666667, 0.87878788, 0.7826087 ]), 'train_recall': array([0.8538206 , 0.84731544, 0.85834739]), 'test_f1': array([0.86725664, 0.85925926, 0.78832117]), 'train_f1': array([0.82504013, 0.8244898 , 0.83237939])}\n",
            "{'fit_time': array([31.7821126 , 27.54354167, 22.919312  ]), 'score_time': array([0.17446852, 0.17290854, 0.17836142]), 'estimator': [LogisticRegression(class_weight={0: 0.044, 1: 0.956}, max_iter=1000,\n",
            "                   random_state=123456), LogisticRegression(class_weight={0: 0.044, 1: 0.956}, max_iter=1000,\n",
            "                   random_state=123456), LogisticRegression(class_weight={0: 0.044, 1: 0.956}, max_iter=1000,\n",
            "                   random_state=123456)], 'test_precision': array([0.98      , 0.92063492, 0.8852459 ]), 'train_precision': array([0.88013699, 0.88441331, 0.88675958]), 'test_recall': array([0.81666667, 0.87878788, 0.7826087 ]), 'train_recall': array([0.8538206 , 0.84731544, 0.85834739]), 'test_f1': array([0.89090909, 0.89922481, 0.83076923]), 'train_f1': array([0.86677909, 0.86546701, 0.87232219])}\n",
            "{'fit_time': array([34.65708208, 38.8082962 , 48.38135266]), 'score_time': array([0.17470241, 0.1738627 , 0.17528272]), 'estimator': [LogisticRegression(C=10.0, class_weight={0: 0.044, 1: 0.956}, max_iter=1000,\n",
            "                   random_state=123456), LogisticRegression(C=10.0, class_weight={0: 0.044, 1: 0.956}, max_iter=1000,\n",
            "                   random_state=123456), LogisticRegression(C=10.0, class_weight={0: 0.044, 1: 0.956}, max_iter=1000,\n",
            "                   random_state=123456)], 'test_precision': array([1.        , 0.98305085, 0.96428571]), 'train_precision': array([0.96616541, 0.96743295, 0.96952381]), 'test_recall': array([0.81666667, 0.87878788, 0.7826087 ]), 'train_recall': array([0.8538206 , 0.84731544, 0.85834739]), 'test_f1': array([0.89908257, 0.928     , 0.864     ]), 'train_f1': array([0.90652557, 0.90339893, 0.91055456])}\n",
            "{'fit_time': array([69.17957139, 57.26737237, 79.56230831]), 'score_time': array([0.17616463, 0.18159389, 0.17458224]), 'estimator': [LogisticRegression(C=100.0, class_weight={0: 0.044, 1: 0.956}, max_iter=1000,\n",
            "                   random_state=123456), LogisticRegression(C=100.0, class_weight={0: 0.044, 1: 0.956}, max_iter=1000,\n",
            "                   random_state=123456), LogisticRegression(C=100.0, class_weight={0: 0.044, 1: 0.956}, max_iter=1000,\n",
            "                   random_state=123456)], 'test_precision': array([1.        , 0.98305085, 0.96428571]), 'train_precision': array([0.97904762, 0.97868217, 0.98073218]), 'test_recall': array([0.81666667, 0.87878788, 0.7826087 ]), 'train_recall': array([0.8538206 , 0.84731544, 0.85834739]), 'test_f1': array([0.89908257, 0.928     , 0.864     ]), 'train_f1': array([0.91215617, 0.90827338, 0.91546763])}\n",
            "{'fit_time': array([175.10826039, 180.55265164, 154.29902625]), 'score_time': array([0.17757416, 0.17406273, 0.17638683]), 'estimator': [LogisticRegression(C=1000.0, class_weight={0: 0.044, 1: 0.956}, max_iter=1000,\n",
            "                   random_state=123456), LogisticRegression(C=1000.0, class_weight={0: 0.044, 1: 0.956}, max_iter=1000,\n",
            "                   random_state=123456), LogisticRegression(C=1000.0, class_weight={0: 0.044, 1: 0.956}, max_iter=1000,\n",
            "                   random_state=123456)], 'test_precision': array([1.        , 0.98305085, 0.96428571]), 'train_precision': array([0.98279159, 0.98440546, 0.98643411]), 'test_recall': array([0.81666667, 0.87878788, 0.7826087 ]), 'train_recall': array([0.8538206 , 0.84731544, 0.85834739]), 'test_f1': array([0.89908257, 0.928     , 0.864     ]), 'train_f1': array([0.91377778, 0.91073039, 0.91794409])}\n"
          ]
        },
        {
          "output_type": "stream",
          "name": "stderr",
          "text": [
            "/usr/local/lib/python3.7/dist-packages/sklearn/linear_model/_logistic.py:818: ConvergenceWarning: lbfgs failed to converge (status=1):\n",
            "STOP: TOTAL NO. of ITERATIONS REACHED LIMIT.\n",
            "\n",
            "Increase the number of iterations (max_iter) or scale the data as shown in:\n",
            "    https://scikit-learn.org/stable/modules/preprocessing.html\n",
            "Please also refer to the documentation for alternative solver options:\n",
            "    https://scikit-learn.org/stable/modules/linear_model.html#logistic-regression\n",
            "  extra_warning_msg=_LOGISTIC_SOLVER_CONVERGENCE_MSG,\n",
            "/usr/local/lib/python3.7/dist-packages/sklearn/linear_model/_logistic.py:818: ConvergenceWarning: lbfgs failed to converge (status=1):\n",
            "STOP: TOTAL NO. of ITERATIONS REACHED LIMIT.\n",
            "\n",
            "Increase the number of iterations (max_iter) or scale the data as shown in:\n",
            "    https://scikit-learn.org/stable/modules/preprocessing.html\n",
            "Please also refer to the documentation for alternative solver options:\n",
            "    https://scikit-learn.org/stable/modules/linear_model.html#logistic-regression\n",
            "  extra_warning_msg=_LOGISTIC_SOLVER_CONVERGENCE_MSG,\n",
            "/usr/local/lib/python3.7/dist-packages/sklearn/linear_model/_logistic.py:818: ConvergenceWarning: lbfgs failed to converge (status=1):\n",
            "STOP: TOTAL NO. of ITERATIONS REACHED LIMIT.\n",
            "\n",
            "Increase the number of iterations (max_iter) or scale the data as shown in:\n",
            "    https://scikit-learn.org/stable/modules/preprocessing.html\n",
            "Please also refer to the documentation for alternative solver options:\n",
            "    https://scikit-learn.org/stable/modules/linear_model.html#logistic-regression\n",
            "  extra_warning_msg=_LOGISTIC_SOLVER_CONVERGENCE_MSG,\n"
          ]
        },
        {
          "output_type": "stream",
          "name": "stdout",
          "text": [
            "{'fit_time': array([227.92320395, 231.10240531, 226.84455252]), 'score_time': array([0.17298746, 0.17753887, 0.17664409]), 'estimator': [LogisticRegression(C=10000.0, class_weight={0: 0.044, 1: 0.956}, max_iter=1000,\n",
            "                   random_state=123456), LogisticRegression(C=10000.0, class_weight={0: 0.044, 1: 0.956}, max_iter=1000,\n",
            "                   random_state=123456), LogisticRegression(C=10000.0, class_weight={0: 0.044, 1: 0.956}, max_iter=1000,\n",
            "                   random_state=123456)], 'test_precision': array([1.        , 0.98305085, 0.98181818]), 'train_precision': array([0.98846154, 0.98825832, 0.99027237]), 'test_recall': array([0.81666667, 0.87878788, 0.7826087 ]), 'train_recall': array([0.8538206 , 0.84731544, 0.85834739]), 'test_f1': array([0.89908257, 0.928     , 0.87096774]), 'train_f1': array([0.91622103, 0.91237579, 0.91960253])}\n"
          ]
        },
        {
          "output_type": "stream",
          "name": "stderr",
          "text": [
            "/usr/local/lib/python3.7/dist-packages/sklearn/linear_model/_logistic.py:818: ConvergenceWarning: lbfgs failed to converge (status=1):\n",
            "STOP: TOTAL NO. of ITERATIONS REACHED LIMIT.\n",
            "\n",
            "Increase the number of iterations (max_iter) or scale the data as shown in:\n",
            "    https://scikit-learn.org/stable/modules/preprocessing.html\n",
            "Please also refer to the documentation for alternative solver options:\n",
            "    https://scikit-learn.org/stable/modules/linear_model.html#logistic-regression\n",
            "  extra_warning_msg=_LOGISTIC_SOLVER_CONVERGENCE_MSG,\n",
            "/usr/local/lib/python3.7/dist-packages/sklearn/linear_model/_logistic.py:818: ConvergenceWarning: lbfgs failed to converge (status=1):\n",
            "STOP: TOTAL NO. of ITERATIONS REACHED LIMIT.\n",
            "\n",
            "Increase the number of iterations (max_iter) or scale the data as shown in:\n",
            "    https://scikit-learn.org/stable/modules/preprocessing.html\n",
            "Please also refer to the documentation for alternative solver options:\n",
            "    https://scikit-learn.org/stable/modules/linear_model.html#logistic-regression\n",
            "  extra_warning_msg=_LOGISTIC_SOLVER_CONVERGENCE_MSG,\n",
            "/usr/local/lib/python3.7/dist-packages/sklearn/linear_model/_logistic.py:818: ConvergenceWarning: lbfgs failed to converge (status=1):\n",
            "STOP: TOTAL NO. of ITERATIONS REACHED LIMIT.\n",
            "\n",
            "Increase the number of iterations (max_iter) or scale the data as shown in:\n",
            "    https://scikit-learn.org/stable/modules/preprocessing.html\n",
            "Please also refer to the documentation for alternative solver options:\n",
            "    https://scikit-learn.org/stable/modules/linear_model.html#logistic-regression\n",
            "  extra_warning_msg=_LOGISTIC_SOLVER_CONVERGENCE_MSG,\n"
          ]
        },
        {
          "output_type": "stream",
          "name": "stdout",
          "text": [
            "{'fit_time': array([225.54897404, 233.00529432, 234.26938462]), 'score_time': array([0.17421484, 0.18274331, 0.17381072]), 'estimator': [LogisticRegression(C=100000.0, class_weight={0: 0.044, 1: 0.956}, max_iter=1000,\n",
            "                   random_state=123456), LogisticRegression(C=100000.0, class_weight={0: 0.044, 1: 0.956}, max_iter=1000,\n",
            "                   random_state=123456), LogisticRegression(C=100000.0, class_weight={0: 0.044, 1: 0.956}, max_iter=1000,\n",
            "                   random_state=123456)], 'test_precision': array([0.98      , 0.96666667, 0.96428571]), 'train_precision': array([0.98279159, 0.98825832, 0.98643411]), 'test_recall': array([0.81666667, 0.87878788, 0.7826087 ]), 'train_recall': array([0.8538206 , 0.84731544, 0.85834739]), 'test_f1': array([0.89090909, 0.92063492, 0.864     ]), 'train_f1': array([0.91377778, 0.91237579, 0.91794409])}\n"
          ]
        },
        {
          "output_type": "stream",
          "name": "stderr",
          "text": [
            "/usr/local/lib/python3.7/dist-packages/sklearn/linear_model/_logistic.py:818: ConvergenceWarning: lbfgs failed to converge (status=1):\n",
            "STOP: TOTAL NO. of ITERATIONS REACHED LIMIT.\n",
            "\n",
            "Increase the number of iterations (max_iter) or scale the data as shown in:\n",
            "    https://scikit-learn.org/stable/modules/preprocessing.html\n",
            "Please also refer to the documentation for alternative solver options:\n",
            "    https://scikit-learn.org/stable/modules/linear_model.html#logistic-regression\n",
            "  extra_warning_msg=_LOGISTIC_SOLVER_CONVERGENCE_MSG,\n",
            "/usr/local/lib/python3.7/dist-packages/sklearn/linear_model/_logistic.py:818: ConvergenceWarning: lbfgs failed to converge (status=1):\n",
            "STOP: TOTAL NO. of ITERATIONS REACHED LIMIT.\n",
            "\n",
            "Increase the number of iterations (max_iter) or scale the data as shown in:\n",
            "    https://scikit-learn.org/stable/modules/preprocessing.html\n",
            "Please also refer to the documentation for alternative solver options:\n",
            "    https://scikit-learn.org/stable/modules/linear_model.html#logistic-regression\n",
            "  extra_warning_msg=_LOGISTIC_SOLVER_CONVERGENCE_MSG,\n",
            "/usr/local/lib/python3.7/dist-packages/sklearn/linear_model/_logistic.py:818: ConvergenceWarning: lbfgs failed to converge (status=1):\n",
            "STOP: TOTAL NO. of ITERATIONS REACHED LIMIT.\n",
            "\n",
            "Increase the number of iterations (max_iter) or scale the data as shown in:\n",
            "    https://scikit-learn.org/stable/modules/preprocessing.html\n",
            "Please also refer to the documentation for alternative solver options:\n",
            "    https://scikit-learn.org/stable/modules/linear_model.html#logistic-regression\n",
            "  extra_warning_msg=_LOGISTIC_SOLVER_CONVERGENCE_MSG,\n"
          ]
        },
        {
          "output_type": "stream",
          "name": "stdout",
          "text": [
            "{'fit_time': array([229.98102713, 230.78724647, 230.19950581]), 'score_time': array([0.17342782, 0.17347193, 0.17464948]), 'estimator': [LogisticRegression(C=1000000.0, class_weight={0: 0.044, 1: 0.956},\n",
            "                   max_iter=1000, random_state=123456), LogisticRegression(C=1000000.0, class_weight={0: 0.044, 1: 0.956},\n",
            "                   max_iter=1000, random_state=123456), LogisticRegression(C=1000000.0, class_weight={0: 0.044, 1: 0.956},\n",
            "                   max_iter=1000, random_state=123456)], 'test_precision': array([0.98      , 0.96666667, 0.96428571]), 'train_precision': array([0.98467433, 0.98825832, 0.98643411]), 'test_recall': array([0.81666667, 0.87878788, 0.7826087 ]), 'train_recall': array([0.8538206 , 0.84731544, 0.85834739]), 'test_f1': array([0.89090909, 0.92063492, 0.864     ]), 'train_f1': array([0.91459075, 0.91237579, 0.91794409])}\n",
            "[[0.7127699180938198 0.8260210803689064 0.7651182432432434\n",
            "  array([-3.23924471e-01,  1.03175844e-01,  6.79960256e-01, -1.35695138e-01,\n",
            "         -5.74151863e-01,  2.83532198e-01, -2.00988187e-01,  1.34649982e-01,\n",
            "          2.90715631e-01, -1.38085142e-01, -4.22758134e-03, -1.27389599e-02,\n",
            "         -8.55084161e-02, -3.24417162e-03, -3.24875332e-02, -1.06059394e-03,\n",
            "         -1.79798614e-03, -1.97445436e-02, -1.01963551e-03,  4.26600673e-01,\n",
            "          7.69578620e-01, -1.15357914e+00])                                 ]\n",
            " [0.8530752196968479 0.8260210803689064 0.8382790214368708\n",
            "  array([-1.98300139,  0.87912591,  0.62800472, -0.62643748, -1.39985885,\n",
            "          0.49503913, -0.48575751,  0.20153935,  0.50442399, -0.36200147,\n",
            "         -0.01645931, -0.03965619, -0.19972028, -0.01403047, -0.06944973,\n",
            "         -0.00613635, -0.00587703, -0.01226466, -0.00623028,  1.25243146,\n",
            "          1.50318508, -1.63414683])                                      ]\n",
            " [0.9286269407580883 0.8260210803689064 0.8736343759599574\n",
            "  array([-9.82588442,  4.02438183,  0.8266376 , -0.86294482, -3.80200329,\n",
            "          0.79005129, -0.91325304,  0.59085751,  0.79046266, -0.72028191,\n",
            "         -0.06553032, -0.08227496, -0.17827865, -0.06156668, -0.25236046,\n",
            "         -0.02601248, -0.02520704, -0.03599652, -0.02554764,  1.15458785,\n",
            "          1.76573932, -1.76022571])                                      ]\n",
            " [0.9824455205811139 0.8260210803689064 0.8970275229357797\n",
            "  array([-18.30458428,   7.05483554,   1.38828223,  -3.62204468,\n",
            "          -6.75780286,   1.39013054,  -0.68353318,   0.69972236,\n",
            "           1.25892819,  -1.95599051,  -0.14043384,  -0.17187098,\n",
            "          -0.4892058 ,  -0.13880057,  -0.89467276,  -0.04358538,\n",
            "          -0.07617486,  -0.12202209,  -0.03039614,   0.19564282,\n",
            "           1.12316238,  -1.63234026])                           ]\n",
            " [0.9824455205811139 0.8260210803689064 0.8970275229357797\n",
            "  array([-29.18212408,   9.09727043,   2.17044522, -10.06807374,\n",
            "          -8.31697091,   2.4566497 ,  -0.50071919,   0.95837277,\n",
            "           0.42992531,  -3.37169841,  -0.2143425 ,  -0.33580819,\n",
            "          -0.65319042,  -0.32075376,  -2.92981217,   0.34445532,\n",
            "          -0.39268273,  -0.3640736 ,   0.50343315,  -0.07672218,\n",
            "           0.61129734,  -1.35568638])                           ]\n",
            " [0.9824455205811139 0.8260210803689064 0.8970275229357797\n",
            "  array([-90.59235198,   9.86775764,   6.69788562, -12.26095859,\n",
            "          -8.57946289,   8.12893513,  -0.89040047,   1.36204884,\n",
            "          -5.58339387, -10.05394474,   1.29626602,   1.16680108,\n",
            "           0.99439401,  -0.56247797, -17.27151885,   3.63954697,\n",
            "          -2.78803534,  -2.25403279,   4.91906984,  -0.1350312 ,\n",
            "           0.2337561 ,  -1.25427602])                           ]\n",
            " [0.9882896764252697 0.8260210803689064 0.8993501035809411\n",
            "  array([-100.57637905,   11.95566276,    7.14593189,  -11.95392896,\n",
            "           -9.44999346,   22.64140928,   -2.93562138,    2.9906668 ,\n",
            "          -21.50068024,  -47.79604529,   11.95545395,    6.59830805,\n",
            "           12.45264974,   -2.02711206,  -97.5152053 ,   21.22884631,\n",
            "          -14.48466886,  -11.51618206,   28.18456928,   -0.15378544,\n",
            "            0.21687811,   -1.29680372])                             ]\n",
            " [0.9703174603174604 0.8260210803689064 0.8918480038480038\n",
            "  array([-1.21667873e+02,  2.04448623e+01,  7.02740408e+00, -3.34533925e+00,\n",
            "         -9.75005126e+00,  3.67552556e+01, -5.40092765e+00,  5.04623142e+00,\n",
            "         -3.75739026e+01, -1.05263008e+02,  2.67334094e+01,  2.42300710e+01,\n",
            "          2.96427974e+01, -5.00513134e+00, -2.19990305e+02,  4.73235361e+01,\n",
            "         -3.19032723e+01, -2.60322464e+01,  6.29158829e+01, -1.32274983e-01,\n",
            "          3.59658986e-01, -1.47552674e+00])                                 ]\n",
            " [0.9703174603174604 0.8260210803689064 0.8918480038480038\n",
            "  array([-1.68985043e+02,  3.66450611e+01,  7.48483046e+00,  9.05210000e+00,\n",
            "         -1.00960529e+01,  4.69120363e+01, -6.98685039e+00,  5.16621904e+00,\n",
            "         -4.78063814e+01, -1.48981526e+02,  4.43285072e+01,  1.00042509e+01,\n",
            "          3.93175829e+01, -3.08838864e-01, -3.04857676e+02,  6.33895843e+01,\n",
            "         -4.44032047e+01, -3.64435899e+01,  8.45504615e+01, -2.31502961e-01,\n",
            "          3.37889463e-01, -1.48612652e+00])                                 ]]\n"
          ]
        },
        {
          "output_type": "stream",
          "name": "stderr",
          "text": [
            "/usr/local/lib/python3.7/dist-packages/ipykernel_launcher.py:16: VisibleDeprecationWarning: Creating an ndarray from ragged nested sequences (which is a list-or-tuple of lists-or-tuples-or ndarrays with different lengths or shapes) is deprecated. If you meant to do this, you must specify 'dtype=object' when creating the ndarray.\n",
            "  app.launch_new_instance()\n"
          ]
        },
        {
          "output_type": "display_data",
          "data": {
            "text/plain": [
              "<Figure size 432x288 with 1 Axes>"
            ],
            "image/png": "[encoded data removed]"
          },
          "metadata": {
            "needs_background": "light"
          }
        },
        {
          "output_type": "stream",
          "name": "stdout",
          "text": [
            "[[-3.23924471e-01  1.03175844e-01  6.79960256e-01 -1.35695138e-01\n",
            "  -5.74151863e-01  2.83532198e-01 -2.00988187e-01  1.34649982e-01\n",
            "   2.90715631e-01 -1.38085142e-01 -4.22758134e-03 -1.27389599e-02\n",
            "  -8.55084161e-02 -3.24417162e-03 -3.24875332e-02 -1.06059394e-03\n",
            "  -1.79798614e-03 -1.97445436e-02 -1.01963551e-03  4.26600673e-01\n",
            "   7.69578620e-01 -1.15357914e+00]\n",
            " [-1.98300139e+00  8.79125907e-01  6.28004716e-01 -6.26437479e-01\n",
            "  -1.39985885e+00  4.95039130e-01 -4.85757511e-01  2.01539353e-01\n",
            "   5.04423992e-01 -3.62001474e-01 -1.64593056e-02 -3.96561938e-02\n",
            "  -1.99720282e-01 -1.40304681e-02 -6.94497348e-02 -6.13634504e-03\n",
            "  -5.87703378e-03 -1.22646599e-02 -6.23028354e-03  1.25243146e+00\n",
            "   1.50318508e+00 -1.63414683e+00]\n",
            " [-9.82588442e+00  4.02438183e+00  8.26637601e-01 -8.62944824e-01\n",
            "  -3.80200329e+00  7.90051288e-01 -9.13253038e-01  5.90857511e-01\n",
            "   7.90462656e-01 -7.20281915e-01 -6.55303216e-02 -8.22749576e-02\n",
            "  -1.78278648e-01 -6.15666757e-02 -2.52360460e-01 -2.60124757e-02\n",
            "  -2.52070382e-02 -3.59965203e-02 -2.55476395e-02  1.15458785e+00\n",
            "   1.76573932e+00 -1.76022571e+00]\n",
            " [-1.83045843e+01  7.05483554e+00  1.38828223e+00 -3.62204468e+00\n",
            "  -6.75780286e+00  1.39013054e+00 -6.83533181e-01  6.99722356e-01\n",
            "   1.25892819e+00 -1.95599051e+00 -1.40433842e-01 -1.71870976e-01\n",
            "  -4.89205802e-01 -1.38800574e-01 -8.94672759e-01 -4.35853812e-02\n",
            "  -7.61748636e-02 -1.22022087e-01 -3.03961422e-02  1.95642818e-01\n",
            "   1.12316238e+00 -1.63234026e+00]\n",
            " [-2.91821241e+01  9.09727043e+00  2.17044522e+00 -1.00680737e+01\n",
            "  -8.31697091e+00  2.45664970e+00 -5.00719187e-01  9.58372769e-01\n",
            "   4.29925311e-01 -3.37169841e+00 -2.14342497e-01 -3.35808188e-01\n",
            "  -6.53190420e-01 -3.20753761e-01 -2.92981217e+00  3.44455318e-01\n",
            "  -3.92682734e-01 -3.64073602e-01  5.03433151e-01 -7.67221839e-02\n",
            "   6.11297341e-01 -1.35568638e+00]\n",
            " [-9.05923520e+01  9.86775764e+00  6.69788562e+00 -1.22609586e+01\n",
            "  -8.57946289e+00  8.12893513e+00 -8.90400469e-01  1.36204884e+00\n",
            "  -5.58339387e+00 -1.00539447e+01  1.29626602e+00  1.16680108e+00\n",
            "   9.94394006e-01 -5.62477966e-01 -1.72715188e+01  3.63954697e+00\n",
            "  -2.78803534e+00 -2.25403279e+00  4.91906984e+00 -1.35031202e-01\n",
            "   2.33756103e-01 -1.25427602e+00]\n",
            " [-1.00576379e+02  1.19556628e+01  7.14593189e+00 -1.19539290e+01\n",
            "  -9.44999346e+00  2.26414093e+01 -2.93562138e+00  2.99066680e+00\n",
            "  -2.15006802e+01 -4.77960453e+01  1.19554539e+01  6.59830805e+00\n",
            "   1.24526497e+01 -2.02711206e+00 -9.75152053e+01  2.12288463e+01\n",
            "  -1.44846689e+01 -1.15161821e+01  2.81845693e+01 -1.53785444e-01\n",
            "   2.16878106e-01 -1.29680372e+00]\n",
            " [-1.21667873e+02  2.04448623e+01  7.02740408e+00 -3.34533925e+00\n",
            "  -9.75005126e+00  3.67552556e+01 -5.40092765e+00  5.04623142e+00\n",
            "  -3.75739026e+01 -1.05263008e+02  2.67334094e+01  2.42300710e+01\n",
            "   2.96427974e+01 -5.00513134e+00 -2.19990305e+02  4.73235361e+01\n",
            "  -3.19032723e+01 -2.60322464e+01  6.29158829e+01 -1.32274983e-01\n",
            "   3.59658986e-01 -1.47552674e+00]\n",
            " [-1.68985043e+02  3.66450611e+01  7.48483046e+00  9.05210000e+00\n",
            "  -1.00960529e+01  4.69120363e+01 -6.98685039e+00  5.16621904e+00\n",
            "  -4.78063814e+01 -1.48981526e+02  4.43285072e+01  1.00042509e+01\n",
            "   3.93175829e+01 -3.08838864e-01 -3.04857676e+02  6.33895843e+01\n",
            "  -4.44032047e+01 -3.64435899e+01  8.45504615e+01 -2.31502961e-01\n",
            "   3.37889463e-01 -1.48612652e+00]]\n",
            "(9, 22)\n"
          ]
        }
      ]
    },
    {
      "cell_type": "code",
      "source": [
        "ax = plt.subplot(111)\n",
        "NUM_COLORS = matrix_coeff.shape[1]\n",
        "LINE_STYLES = ['solid', 'dashed', 'dashdot', 'dotted']\n",
        "NUM_STYLES = len(LINE_STYLES)\n",
        "cm = plt.get_cmap('Set1')\n",
        "\n",
        "for i in range(0, matrix_coeff.shape[1]):\n",
        "    lines = ax.plot(tab_logC, matrix_coeff[:, i])\n",
        "    lines[0].set_color(cm(i//NUM_STYLES))\n",
        "    lines[0].set_linestyle(LINE_STYLES[i%NUM_STYLES])\n",
        "\n",
        "plt.xlabel(\"log(C)\")\n",
        "plt.xticks(label=np.log(tab_C))\n",
        "\n",
        "box = ax.get_position()\n",
        "ax.set_position([box.x0, box.y0, box.width * 0.95, box.height])\n",
        "ax.legend(np.arange(0, matrix_coeff.shape[1]), loc='center left', bbox_to_anchor=(1, 0.5))\n",
        "\n",
        "plt.savefig(\"cross_validation_C_coeff.pdf\", format=\"pdf\")\n",
        "plt.show()\n",
        "\n",
        "print(matrix_coeff)\n"
      ],
      "metadata": {
        "colab": {
          "base_uri": "https://localhost:8080/",
          "height": 1000
        },
        "id": "iKEa6QpZ1XND",
        "outputId": "b124a49b-bf71-41be-e5ea-764205780c62"
      },
      "execution_count": null,
      "outputs": [
        {
          "output_type": "display_data",
          "data": {
            "text/plain": [
              "<Figure size 432x288 with 1 Axes>"
            ],
            "image/png": "[encoded data removed]"
          },
          "metadata": {
            "needs_background": "light"
          }
        },
        {
          "output_type": "stream",
          "name": "stdout",
          "text": [
            "[[-3.23924471e-01  1.03175844e-01  6.79960256e-01 -1.35695138e-01\n",
            "  -5.74151863e-01  2.83532198e-01 -2.00988187e-01  1.34649982e-01\n",
            "   2.90715631e-01 -1.38085142e-01 -4.22758134e-03 -1.27389599e-02\n",
            "  -8.55084161e-02 -3.24417162e-03 -3.24875332e-02 -1.06059394e-03\n",
            "  -1.79798614e-03 -1.97445436e-02 -1.01963551e-03  4.26600673e-01\n",
            "   7.69578620e-01 -1.15357914e+00]\n",
            " [-1.98300139e+00  8.79125907e-01  6.28004716e-01 -6.26437479e-01\n",
            "  -1.39985885e+00  4.95039130e-01 -4.85757511e-01  2.01539353e-01\n",
            "   5.04423992e-01 -3.62001474e-01 -1.64593056e-02 -3.96561938e-02\n",
            "  -1.99720282e-01 -1.40304681e-02 -6.94497348e-02 -6.13634504e-03\n",
            "  -5.87703378e-03 -1.22646599e-02 -6.23028354e-03  1.25243146e+00\n",
            "   1.50318508e+00 -1.63414683e+00]\n",
            " [-9.82588442e+00  4.02438183e+00  8.26637601e-01 -8.62944824e-01\n",
            "  -3.80200329e+00  7.90051288e-01 -9.13253038e-01  5.90857511e-01\n",
            "   7.90462656e-01 -7.20281915e-01 -6.55303216e-02 -8.22749576e-02\n",
            "  -1.78278648e-01 -6.15666757e-02 -2.52360460e-01 -2.60124757e-02\n",
            "  -2.52070382e-02 -3.59965203e-02 -2.55476395e-02  1.15458785e+00\n",
            "   1.76573932e+00 -1.76022571e+00]\n",
            " [-1.83045843e+01  7.05483554e+00  1.38828223e+00 -3.62204468e+00\n",
            "  -6.75780286e+00  1.39013054e+00 -6.83533181e-01  6.99722356e-01\n",
            "   1.25892819e+00 -1.95599051e+00 -1.40433842e-01 -1.71870976e-01\n",
            "  -4.89205802e-01 -1.38800574e-01 -8.94672759e-01 -4.35853812e-02\n",
            "  -7.61748636e-02 -1.22022087e-01 -3.03961422e-02  1.95642818e-01\n",
            "   1.12316238e+00 -1.63234026e+00]\n",
            " [-2.91821241e+01  9.09727043e+00  2.17044522e+00 -1.00680737e+01\n",
            "  -8.31697091e+00  2.45664970e+00 -5.00719187e-01  9.58372769e-01\n",
            "   4.29925311e-01 -3.37169841e+00 -2.14342497e-01 -3.35808188e-01\n",
            "  -6.53190420e-01 -3.20753761e-01 -2.92981217e+00  3.44455318e-01\n",
            "  -3.92682734e-01 -3.64073602e-01  5.03433151e-01 -7.67221839e-02\n",
            "   6.11297341e-01 -1.35568638e+00]\n",
            " [-9.05923520e+01  9.86775764e+00  6.69788562e+00 -1.22609586e+01\n",
            "  -8.57946289e+00  8.12893513e+00 -8.90400469e-01  1.36204884e+00\n",
            "  -5.58339387e+00 -1.00539447e+01  1.29626602e+00  1.16680108e+00\n",
            "   9.94394006e-01 -5.62477966e-01 -1.72715188e+01  3.63954697e+00\n",
            "  -2.78803534e+00 -2.25403279e+00  4.91906984e+00 -1.35031202e-01\n",
            "   2.33756103e-01 -1.25427602e+00]\n",
            " [-1.00576379e+02  1.19556628e+01  7.14593189e+00 -1.19539290e+01\n",
            "  -9.44999346e+00  2.26414093e+01 -2.93562138e+00  2.99066680e+00\n",
            "  -2.15006802e+01 -4.77960453e+01  1.19554539e+01  6.59830805e+00\n",
            "   1.24526497e+01 -2.02711206e+00 -9.75152053e+01  2.12288463e+01\n",
            "  -1.44846689e+01 -1.15161821e+01  2.81845693e+01 -1.53785444e-01\n",
            "   2.16878106e-01 -1.29680372e+00]\n",
            " [-1.21667873e+02  2.04448623e+01  7.02740408e+00 -3.34533925e+00\n",
            "  -9.75005126e+00  3.67552556e+01 -5.40092765e+00  5.04623142e+00\n",
            "  -3.75739026e+01 -1.05263008e+02  2.67334094e+01  2.42300710e+01\n",
            "   2.96427974e+01 -5.00513134e+00 -2.19990305e+02  4.73235361e+01\n",
            "  -3.19032723e+01 -2.60322464e+01  6.29158829e+01 -1.32274983e-01\n",
            "   3.59658986e-01 -1.47552674e+00]\n",
            " [-1.68985043e+02  3.66450611e+01  7.48483046e+00  9.05210000e+00\n",
            "  -1.00960529e+01  4.69120363e+01 -6.98685039e+00  5.16621904e+00\n",
            "  -4.78063814e+01 -1.48981526e+02  4.43285072e+01  1.00042509e+01\n",
            "   3.93175829e+01 -3.08838864e-01 -3.04857676e+02  6.33895843e+01\n",
            "  -4.44032047e+01 -3.64435899e+01  8.45504615e+01 -2.31502961e-01\n",
            "   3.37889463e-01 -1.48612652e+00]]\n"
          ]
        }
      ]
    },
    {
      "cell_type": "code",
      "source": [
        "\n",
        "tab_C = np.linspace(550, 1000, 10)\n",
        "print(tab_C)\n",
        "\n",
        "tab_score = np.array([apply_logreg_cross_validation_coeff(X_train, y_train, {'penalty':'l2', 'C':C, 'random_state':123456, 'multi_class':\"auto\", 'class_weight':{0:0.044, 1:1-0.044}, 'solver':\"lbfgs\", 'max_iter':1000, 'verbose':0}) for C in tab_C])\n",
        "print(tab_score)\n",
        "\n",
        "plt.plot(tab_C, tab_score[:, 0])\n",
        "plt.plot(tab_C, tab_score[:, 1])\n",
        "plt.plot(tab_C, tab_score[:, 2])\n",
        "plt.legend([\"test_precision\", \"test_recall\", \"test_f1\"])\n",
        "plt.xlabel(\"C\")\n",
        "\n",
        "plt.tight_layout(rect=[0, 0.03, 1, 0.95])\n",
        "plt.savefig(\"cross_validation_C.pdf\", format=\"pdf\")\n",
        "plt.show()\n",
        "\n",
        "matrix_coeff = np.stack(tab_score[:, 3], axis=0)\n",
        "print(matrix_coeff)\n",
        "print(matrix_coeff.shape)\n",
        "\n",
        "ax = plt.subplot(111)\n",
        "NUM_COLORS = matrix_coeff.shape[1]\n",
        "LINE_STYLES = ['solid', 'dashed', 'dashdot', 'dotted']\n",
        "NUM_STYLES = len(LINE_STYLES)\n",
        "cm = plt.get_cmap('Set1')\n",
        "\n",
        "for i in range(0, matrix_coeff.shape[1]):\n",
        "    lines = ax.plot(tab_C, matrix_coeff[:, i])\n",
        "    lines[0].set_color(cm(i//NUM_STYLES))\n",
        "    lines[0].set_linestyle(LINE_STYLES[i%NUM_STYLES])\n",
        "\n",
        "plt.xlabel(\"C\")\n",
        "\n",
        "box = ax.get_position()\n",
        "ax.set_position([box.x0, box.y0, box.width * 0.95, box.height])\n",
        "ax.legend(np.arange(0, matrix_coeff.shape[1]), loc='center left', bbox_to_anchor=(1, 0.5))\n",
        "\n",
        "plt.savefig(\"cross_validation_C_coeff.pdf\", format=\"pdf\")\n",
        "plt.show()\n"
      ],
      "metadata": {
        "colab": {
          "base_uri": "https://localhost:8080/",
          "height": 1000
        },
        "id": "X277iqwyBZ8d",
        "outputId": "14491d18-f964-49bb-831f-58a33f738958"
      },
      "execution_count": null,
      "outputs": [
        {
          "output_type": "stream",
          "name": "stdout",
          "text": [
            "[ 550.  600.  650.  700.  750.  800.  850.  900.  950. 1000.]\n",
            "{'fit_time': array([102.84380054, 158.00249481, 129.63470387]), 'score_time': array([0.17653131, 0.17422581, 0.17446661]), 'estimator': [LogisticRegression(C=550.0, class_weight={0: 0.044, 1: 0.956}, max_iter=1000,\n",
            "                   random_state=123456), LogisticRegression(C=550.0, class_weight={0: 0.044, 1: 0.956}, max_iter=1000,\n",
            "                   random_state=123456), LogisticRegression(C=550.0, class_weight={0: 0.044, 1: 0.956}, max_iter=1000,\n",
            "                   random_state=123456)], 'test_precision': array([1.        , 0.98305085, 0.96428571]), 'train_precision': array([0.98279159, 0.98440546, 0.98643411]), 'test_recall': array([0.81666667, 0.87878788, 0.7826087 ]), 'train_recall': array([0.8538206 , 0.84731544, 0.85834739]), 'test_f1': array([0.89908257, 0.928     , 0.864     ]), 'train_f1': array([0.91377778, 0.91073039, 0.91794409])}\n",
            "{'fit_time': array([120.09439921, 131.65246654, 142.58312368]), 'score_time': array([0.17493558, 0.17388821, 0.17561364]), 'estimator': [LogisticRegression(C=600.0, class_weight={0: 0.044, 1: 0.956}, max_iter=1000,\n",
            "                   random_state=123456), LogisticRegression(C=600.0, class_weight={0: 0.044, 1: 0.956}, max_iter=1000,\n",
            "                   random_state=123456), LogisticRegression(C=600.0, class_weight={0: 0.044, 1: 0.956}, max_iter=1000,\n",
            "                   random_state=123456)], 'test_precision': array([1.        , 0.98305085, 0.96428571]), 'train_precision': array([0.98279159, 0.98440546, 0.98643411]), 'test_recall': array([0.81666667, 0.87878788, 0.7826087 ]), 'train_recall': array([0.8538206 , 0.84731544, 0.85834739]), 'test_f1': array([0.89908257, 0.928     , 0.864     ]), 'train_f1': array([0.91377778, 0.91073039, 0.91794409])}\n",
            "{'fit_time': array([159.55235863, 109.81628251, 125.47138238]), 'score_time': array([0.17936325, 0.17737222, 0.17523265]), 'estimator': [LogisticRegression(C=650.0, class_weight={0: 0.044, 1: 0.956}, max_iter=1000,\n",
            "                   random_state=123456), LogisticRegression(C=650.0, class_weight={0: 0.044, 1: 0.956}, max_iter=1000,\n",
            "                   random_state=123456), LogisticRegression(C=650.0, class_weight={0: 0.044, 1: 0.956}, max_iter=1000,\n",
            "                   random_state=123456)], 'test_precision': array([1.        , 0.98305085, 0.96428571]), 'train_precision': array([0.98279159, 0.98440546, 0.98643411]), 'test_recall': array([0.81666667, 0.87878788, 0.7826087 ]), 'train_recall': array([0.8538206 , 0.84731544, 0.85834739]), 'test_f1': array([0.89908257, 0.928     , 0.864     ]), 'train_f1': array([0.91377778, 0.91073039, 0.91794409])}\n",
            "{'fit_time': array([105.02594185, 133.48401833, 125.83603692]), 'score_time': array([0.17338252, 0.17461157, 0.1771245 ]), 'estimator': [LogisticRegression(C=700.0, class_weight={0: 0.044, 1: 0.956}, max_iter=1000,\n",
            "                   random_state=123456), LogisticRegression(C=700.0, class_weight={0: 0.044, 1: 0.956}, max_iter=1000,\n",
            "                   random_state=123456), LogisticRegression(C=700.0, class_weight={0: 0.044, 1: 0.956}, max_iter=1000,\n",
            "                   random_state=123456)], 'test_precision': array([1.        , 0.98305085, 0.96428571]), 'train_precision': array([0.98279159, 0.98440546, 0.98643411]), 'test_recall': array([0.81666667, 0.87878788, 0.7826087 ]), 'train_recall': array([0.8538206 , 0.84731544, 0.85834739]), 'test_f1': array([0.89908257, 0.928     , 0.864     ]), 'train_f1': array([0.91377778, 0.91073039, 0.91794409])}\n",
            "{'fit_time': array([162.05500841, 143.7924931 , 153.59673595]), 'score_time': array([0.1815834 , 0.17349124, 0.1855998 ]), 'estimator': [LogisticRegression(C=750.0, class_weight={0: 0.044, 1: 0.956}, max_iter=1000,\n",
            "                   random_state=123456), LogisticRegression(C=750.0, class_weight={0: 0.044, 1: 0.956}, max_iter=1000,\n",
            "                   random_state=123456), LogisticRegression(C=750.0, class_weight={0: 0.044, 1: 0.956}, max_iter=1000,\n",
            "                   random_state=123456)], 'test_precision': array([1.        , 0.98305085, 0.96428571]), 'train_precision': array([0.98279159, 0.98440546, 0.98643411]), 'test_recall': array([0.81666667, 0.87878788, 0.7826087 ]), 'train_recall': array([0.8538206 , 0.84731544, 0.85834739]), 'test_f1': array([0.89908257, 0.928     , 0.864     ]), 'train_f1': array([0.91377778, 0.91073039, 0.91794409])}\n",
            "{'fit_time': array([160.77242517, 157.02459383, 170.6052475 ]), 'score_time': array([0.17534399, 0.17542195, 0.17543411]), 'estimator': [LogisticRegression(C=800.0, class_weight={0: 0.044, 1: 0.956}, max_iter=1000,\n",
            "                   random_state=123456), LogisticRegression(C=800.0, class_weight={0: 0.044, 1: 0.956}, max_iter=1000,\n",
            "                   random_state=123456), LogisticRegression(C=800.0, class_weight={0: 0.044, 1: 0.956}, max_iter=1000,\n",
            "                   random_state=123456)], 'test_precision': array([1.        , 0.98305085, 0.96428571]), 'train_precision': array([0.98279159, 0.98440546, 0.98643411]), 'test_recall': array([0.81666667, 0.87878788, 0.7826087 ]), 'train_recall': array([0.8538206 , 0.84731544, 0.85834739]), 'test_f1': array([0.89908257, 0.928     , 0.864     ]), 'train_f1': array([0.91377778, 0.91073039, 0.91794409])}\n",
            "{'fit_time': array([126.74238467, 119.5741601 , 112.82814813]), 'score_time': array([0.17443728, 0.17594099, 0.17827487]), 'estimator': [LogisticRegression(C=850.0, class_weight={0: 0.044, 1: 0.956}, max_iter=1000,\n",
            "                   random_state=123456), LogisticRegression(C=850.0, class_weight={0: 0.044, 1: 0.956}, max_iter=1000,\n",
            "                   random_state=123456), LogisticRegression(C=850.0, class_weight={0: 0.044, 1: 0.956}, max_iter=1000,\n",
            "                   random_state=123456)], 'test_precision': array([1.        , 0.98305085, 0.96428571]), 'train_precision': array([0.98279159, 0.98440546, 0.98643411]), 'test_recall': array([0.81666667, 0.87878788, 0.7826087 ]), 'train_recall': array([0.8538206 , 0.84731544, 0.85834739]), 'test_f1': array([0.89908257, 0.928     , 0.864     ]), 'train_f1': array([0.91377778, 0.91073039, 0.91794409])}\n",
            "{'fit_time': array([174.90670228, 158.58015895, 172.14242935]), 'score_time': array([0.17689371, 0.1837852 , 0.1772058 ]), 'estimator': [LogisticRegression(C=900.0, class_weight={0: 0.044, 1: 0.956}, max_iter=1000,\n",
            "                   random_state=123456), LogisticRegression(C=900.0, class_weight={0: 0.044, 1: 0.956}, max_iter=1000,\n",
            "                   random_state=123456), LogisticRegression(C=900.0, class_weight={0: 0.044, 1: 0.956}, max_iter=1000,\n",
            "                   random_state=123456)], 'test_precision': array([1.        , 0.98305085, 0.96428571]), 'train_precision': array([0.98279159, 0.98440546, 0.98643411]), 'test_recall': array([0.81666667, 0.87878788, 0.7826087 ]), 'train_recall': array([0.8538206 , 0.84731544, 0.85834739]), 'test_f1': array([0.89908257, 0.928     , 0.864     ]), 'train_f1': array([0.91377778, 0.91073039, 0.91794409])}\n",
            "{'fit_time': array([184.93124533, 180.53400421, 186.84924531]), 'score_time': array([0.17483592, 0.1753571 , 0.17375875]), 'estimator': [LogisticRegression(C=950.0, class_weight={0: 0.044, 1: 0.956}, max_iter=1000,\n",
            "                   random_state=123456), LogisticRegression(C=950.0, class_weight={0: 0.044, 1: 0.956}, max_iter=1000,\n",
            "                   random_state=123456), LogisticRegression(C=950.0, class_weight={0: 0.044, 1: 0.956}, max_iter=1000,\n",
            "                   random_state=123456)], 'test_precision': array([1.        , 0.98305085, 0.96428571]), 'train_precision': array([0.98279159, 0.98440546, 0.98643411]), 'test_recall': array([0.81666667, 0.87878788, 0.7826087 ]), 'train_recall': array([0.8538206 , 0.84731544, 0.85834739]), 'test_f1': array([0.89908257, 0.928     , 0.864     ]), 'train_f1': array([0.91377778, 0.91073039, 0.91794409])}\n",
            "{'fit_time': array([172.33008718, 183.18671918, 153.01674843]), 'score_time': array([0.17782807, 0.1739099 , 0.17398357]), 'estimator': [LogisticRegression(C=1000.0, class_weight={0: 0.044, 1: 0.956}, max_iter=1000,\n",
            "                   random_state=123456), LogisticRegression(C=1000.0, class_weight={0: 0.044, 1: 0.956}, max_iter=1000,\n",
            "                   random_state=123456), LogisticRegression(C=1000.0, class_weight={0: 0.044, 1: 0.956}, max_iter=1000,\n",
            "                   random_state=123456)], 'test_precision': array([1.        , 0.98305085, 0.96428571]), 'train_precision': array([0.98279159, 0.98440546, 0.98643411]), 'test_recall': array([0.81666667, 0.87878788, 0.7826087 ]), 'train_recall': array([0.8538206 , 0.84731544, 0.85834739]), 'test_f1': array([0.89908257, 0.928     , 0.864     ]), 'train_f1': array([0.91377778, 0.91073039, 0.91794409])}\n",
            "[[0.9824455205811139 0.8260210803689064 0.8970275229357797\n",
            "  array([-64.32480409,   9.67914475,   4.75846322, -12.57645499,\n",
            "          -8.46643387,   5.97318558,  -0.71944376,   1.29883369,\n",
            "          -3.3876003 ,  -6.63705182,   0.46846134,   0.27311285,\n",
            "           0.06726778,  -0.46257011, -10.07966231,   2.00166084,\n",
            "          -1.68020267,  -1.38512459,   2.74541798,  -0.12468199,\n",
            "           0.34640839,  -1.26815689])                           ]\n",
            " [0.9824455205811139 0.8260210803689064 0.8970275229357797\n",
            "  array([-68.94718491,   9.69050643,   5.09972679, -12.46165783,\n",
            "          -8.46543285,   6.24858872,  -0.75212215,   1.32219465,\n",
            "          -3.68667247,  -6.93115799,   0.59852823,   0.40684168,\n",
            "           0.13708956,  -0.39692327, -10.59653746,   2.05999806,\n",
            "          -1.7471585 ,  -1.46232664,   2.82858862,  -0.12492577,\n",
            "           0.32810465,  -1.26806398])                           ]\n",
            " [0.9824455205811139 0.8260210803689064 0.8970275229357797\n",
            "  array([-73.62651092,   9.7030661 ,   5.44548916, -12.43270701,\n",
            "          -8.47618595,   6.57090352,  -0.77388831,   1.330221  ,\n",
            "          -4.01548039,  -7.35822159,   0.72921017,   0.54192219,\n",
            "           0.24323906,  -0.36040345, -11.36481676,   2.19251501,\n",
            "          -1.86540176,  -1.56974093,   3.01209076,  -0.12512785,\n",
            "           0.31033295,  -1.26803323])                           ]\n",
            " [0.9824455205811139 0.8260210803689064 0.8970275229357797\n",
            "  array([-78.2971149 ,   9.70665646,   5.79067712, -12.22961056,\n",
            "          -8.49166762,   6.78354971,  -0.79233522,   1.33853115,\n",
            "          -4.23334198,  -7.69878759,   0.94931977,   0.69752581,\n",
            "           0.33350552,  -0.2062375 , -11.94191889,   2.26521404,\n",
            "          -1.9449086 ,  -1.66130877,   3.11708654,  -0.12472308,\n",
            "           0.2940571 ,  -1.26976001])                           ]\n",
            " [0.9824455205811139 0.8260210803689064 0.8970275229357797\n",
            "  array([-82.85911452,   9.72023631,   6.12783005, -12.13226036,\n",
            "          -8.48984965,   6.82372206,  -0.81023618,   1.36701136,\n",
            "          -4.30148952,  -8.21773317,   0.87024891,   0.68213636,\n",
            "           0.47045547,  -0.47034669, -13.33307277,   2.69942379,\n",
            "          -2.17624577,  -1.7912741 ,   3.67928546,  -0.12460196,\n",
            "           0.27733516,  -1.26989423])                           ]\n",
            " [0.9824455205811139 0.8260210803689064 0.8970275229357797\n",
            "  array([-86.37861252,   9.74551952,   6.38775611, -12.13811245,\n",
            "          -8.48863354,   6.56767422,  -0.78628803,   1.36388673,\n",
            "          -4.04235089,  -8.54706709,   0.83914495,   0.55855621,\n",
            "           0.41404017,  -0.5478208 , -13.75434649,   2.9243041 ,\n",
            "          -2.25036743,  -1.79039989,   3.95897119,  -0.12610967,\n",
            "           0.26158818,  -1.26571079])                           ]\n",
            " [0.9824455205811139 0.8260210803689064 0.8970275229357797\n",
            "  array([-87.39826754,   9.77235329,   6.46269075, -12.14748083,\n",
            "          -8.50078614,   7.67796138,  -0.86613125,   1.3676954 ,\n",
            "          -5.15677756,  -8.64407638,   1.09621176,   0.96732309,\n",
            "           0.41272759,  -0.26837646, -13.4937187 ,   2.71152043,\n",
            "          -2.19594279,  -1.81562621,   3.69240975,  -0.12862461,\n",
            "           0.25456408,  -1.26240773])                           ]\n",
            " [0.9824455205811139 0.8260210803689064 0.8970275229357797\n",
            "  array([-89.19511526,   9.78908162,   6.59551763, -12.14478136,\n",
            "          -8.50820114,   7.69858674,  -0.87537455,   1.37370892,\n",
            "          -5.18141843,  -9.21530496,   1.19618714,   1.02250748,\n",
            "           0.74114689,  -0.39578217, -15.28471301,   3.17836811,\n",
            "          -2.47137045,  -2.00566496,   4.30556088,  -0.12881373,\n",
            "           0.24760352,  -1.26232308])                           ]\n",
            " [0.9824455205811139 0.8260210803689064 0.8970275229357797\n",
            "  array([-90.30442771,   9.84603597,   6.67663269, -12.23640311,\n",
            "          -8.53897801,   7.79364322,  -0.89016942,   1.40357296,\n",
            "          -5.29724408,  -9.50220238,   1.19673584,   1.02635098,\n",
            "           0.86903891,  -0.50689009, -16.16235294,   3.35347227,\n",
            "          -2.61522824,  -2.12951034,   4.54458503,  -0.13358486,\n",
            "           0.23635582,  -1.25465897])                           ]\n",
            " [0.9824455205811139 0.8260210803689064 0.8970275229357797\n",
            "  array([-90.59235198,   9.86775764,   6.69788562, -12.26095859,\n",
            "          -8.57946289,   8.12893513,  -0.89040047,   1.36204884,\n",
            "          -5.58339387, -10.05394474,   1.29626602,   1.16680108,\n",
            "           0.99439401,  -0.56247797, -17.27151885,   3.63954697,\n",
            "          -2.78803534,  -2.25403279,   4.91906984,  -0.1350312 ,\n",
            "           0.2337561 ,  -1.25427602])                           ]]\n"
          ]
        },
        {
          "output_type": "stream",
          "name": "stderr",
          "text": [
            "/usr/local/lib/python3.7/dist-packages/ipykernel_launcher.py:5: VisibleDeprecationWarning: Creating an ndarray from ragged nested sequences (which is a list-or-tuple of lists-or-tuples-or ndarrays with different lengths or shapes) is deprecated. If you meant to do this, you must specify 'dtype=object' when creating the ndarray.\n",
            "  \"\"\"\n"
          ]
        },
        {
          "output_type": "display_data",
          "data": {
            "text/plain": [
              "<Figure size 432x288 with 1 Axes>"
            ],
            "image/png": "[encoded data removed]"
          },
          "metadata": {
            "needs_background": "light"
          }
        },
        {
          "output_type": "stream",
          "name": "stdout",
          "text": [
            "[[-6.43248041e+01  9.67914475e+00  4.75846322e+00 -1.25764550e+01\n",
            "  -8.46643387e+00  5.97318558e+00 -7.19443758e-01  1.29883369e+00\n",
            "  -3.38760030e+00 -6.63705182e+00  4.68461335e-01  2.73112849e-01\n",
            "   6.72677763e-02 -4.62570114e-01 -1.00796623e+01  2.00166084e+00\n",
            "  -1.68020267e+00 -1.38512459e+00  2.74541798e+00 -1.24681989e-01\n",
            "   3.46408394e-01 -1.26815689e+00]\n",
            " [-6.89471849e+01  9.69050643e+00  5.09972679e+00 -1.24616578e+01\n",
            "  -8.46543285e+00  6.24858872e+00 -7.52122149e-01  1.32219465e+00\n",
            "  -3.68667247e+00 -6.93115799e+00  5.98528228e-01  4.06841678e-01\n",
            "   1.37089563e-01 -3.96923266e-01 -1.05965375e+01  2.05999806e+00\n",
            "  -1.74715850e+00 -1.46232664e+00  2.82858862e+00 -1.24925769e-01\n",
            "   3.28104653e-01 -1.26806398e+00]\n",
            " [-7.36265109e+01  9.70306610e+00  5.44548916e+00 -1.24327070e+01\n",
            "  -8.47618595e+00  6.57090352e+00 -7.73888314e-01  1.33022100e+00\n",
            "  -4.01548039e+00 -7.35822159e+00  7.29210167e-01  5.41922186e-01\n",
            "   2.43239064e-01 -3.60403453e-01 -1.13648168e+01  2.19251501e+00\n",
            "  -1.86540176e+00 -1.56974093e+00  3.01209076e+00 -1.25127846e-01\n",
            "   3.10332947e-01 -1.26803323e+00]\n",
            " [-7.82971149e+01  9.70665646e+00  5.79067712e+00 -1.22296106e+01\n",
            "  -8.49166762e+00  6.78354971e+00 -7.92335224e-01  1.33853115e+00\n",
            "  -4.23334198e+00 -7.69878759e+00  9.49319768e-01  6.97525809e-01\n",
            "   3.33505516e-01 -2.06237503e-01 -1.19419189e+01  2.26521404e+00\n",
            "  -1.94490860e+00 -1.66130877e+00  3.11708654e+00 -1.24723082e-01\n",
            "   2.94057097e-01 -1.26976001e+00]\n",
            " [-8.28591145e+01  9.72023631e+00  6.12783005e+00 -1.21322604e+01\n",
            "  -8.48984965e+00  6.82372206e+00 -8.10236180e-01  1.36701136e+00\n",
            "  -4.30148952e+00 -8.21773317e+00  8.70248915e-01  6.82136355e-01\n",
            "   4.70455467e-01 -4.70346695e-01 -1.33330728e+01  2.69942379e+00\n",
            "  -2.17624577e+00 -1.79127410e+00  3.67928546e+00 -1.24601964e-01\n",
            "   2.77335156e-01 -1.26989423e+00]\n",
            " [-8.63786125e+01  9.74551952e+00  6.38775611e+00 -1.21381124e+01\n",
            "  -8.48863354e+00  6.56767422e+00 -7.86288035e-01  1.36388673e+00\n",
            "  -4.04235089e+00 -8.54706709e+00  8.39144945e-01  5.58556207e-01\n",
            "   4.14040167e-01 -5.47820800e-01 -1.37543465e+01  2.92430410e+00\n",
            "  -2.25036743e+00 -1.79039989e+00  3.95897119e+00 -1.26109671e-01\n",
            "   2.61588176e-01 -1.26571079e+00]\n",
            " [-8.73982675e+01  9.77235329e+00  6.46269075e+00 -1.21474808e+01\n",
            "  -8.50078614e+00  7.67796138e+00 -8.66131253e-01  1.36769540e+00\n",
            "  -5.15677756e+00 -8.64407638e+00  1.09621176e+00  9.67323095e-01\n",
            "   4.12727595e-01 -2.68376459e-01 -1.34937187e+01  2.71152043e+00\n",
            "  -2.19594279e+00 -1.81562621e+00  3.69240975e+00 -1.28624611e-01\n",
            "   2.54564079e-01 -1.26240773e+00]\n",
            " [-8.91951153e+01  9.78908162e+00  6.59551763e+00 -1.21447814e+01\n",
            "  -8.50820114e+00  7.69858674e+00 -8.75374547e-01  1.37370892e+00\n",
            "  -5.18141843e+00 -9.21530496e+00  1.19618714e+00  1.02250748e+00\n",
            "   7.41146894e-01 -3.95782173e-01 -1.52847130e+01  3.17836811e+00\n",
            "  -2.47137045e+00 -2.00566496e+00  4.30556088e+00 -1.28813728e-01\n",
            "   2.47603517e-01 -1.26232308e+00]\n",
            " [-9.03044277e+01  9.84603597e+00  6.67663269e+00 -1.22364031e+01\n",
            "  -8.53897801e+00  7.79364322e+00 -8.90169422e-01  1.40357296e+00\n",
            "  -5.29724408e+00 -9.50220238e+00  1.19673584e+00  1.02635098e+00\n",
            "   8.69038908e-01 -5.06890088e-01 -1.61623529e+01  3.35347227e+00\n",
            "  -2.61522824e+00 -2.12951034e+00  4.54458503e+00 -1.33584856e-01\n",
            "   2.36355823e-01 -1.25465897e+00]\n",
            " [-9.05923520e+01  9.86775764e+00  6.69788562e+00 -1.22609586e+01\n",
            "  -8.57946289e+00  8.12893513e+00 -8.90400469e-01  1.36204884e+00\n",
            "  -5.58339387e+00 -1.00539447e+01  1.29626602e+00  1.16680108e+00\n",
            "   9.94394006e-01 -5.62477966e-01 -1.72715188e+01  3.63954697e+00\n",
            "  -2.78803534e+00 -2.25403279e+00  4.91906984e+00 -1.35031202e-01\n",
            "   2.33756103e-01 -1.25427602e+00]]\n",
            "(10, 22)\n"
          ]
        },
        {
          "output_type": "display_data",
          "data": {
            "text/plain": [
              "<Figure size 432x288 with 1 Axes>"
            ],
            "image/png": "[encoded data removed]"
          },
          "metadata": {
            "needs_background": "light"
          }
        }
      ]
    },
    {
      "cell_type": "code",
      "source": [
        "tab_C = np.linspace(50, 1000, 20)\n",
        "print(tab_C)\n",
        "\n",
        "print(tab_score)\n",
        "\n"
      ],
      "metadata": {
        "colab": {
          "base_uri": "https://localhost:8080/"
        },
        "id": "nQ2E84i8BxIY",
        "outputId": "6354bf40-7f31-45b6-e0e4-c536c12719b2"
      },
      "execution_count": null,
      "outputs": [
        {
          "output_type": "stream",
          "name": "stdout",
          "text": [
            "[  50.  100.  150.  200.  250.  300.  350.  400.  450.  500.  550.  600.\n",
            "  650.  700.  750.  800.  850.  900.  950. 1000.]\n",
            "[[0.9824455205811139 0.8260210803689064 0.8970275229357797\n",
            "  array([-64.32480409,   9.67914475,   4.75846322, -12.57645499,\n",
            "          -8.46643387,   5.97318558,  -0.71944376,   1.29883369,\n",
            "          -3.3876003 ,  -6.63705182,   0.46846134,   0.27311285,\n",
            "           0.06726778,  -0.46257011, -10.07966231,   2.00166084,\n",
            "          -1.68020267,  -1.38512459,   2.74541798,  -0.12468199,\n",
            "           0.34640839,  -1.26815689])                           ]\n",
            " [0.9824455205811139 0.8260210803689064 0.8970275229357797\n",
            "  array([-68.94718491,   9.69050643,   5.09972679, -12.46165783,\n",
            "          -8.46543285,   6.24858872,  -0.75212215,   1.32219465,\n",
            "          -3.68667247,  -6.93115799,   0.59852823,   0.40684168,\n",
            "           0.13708956,  -0.39692327, -10.59653746,   2.05999806,\n",
            "          -1.7471585 ,  -1.46232664,   2.82858862,  -0.12492577,\n",
            "           0.32810465,  -1.26806398])                           ]\n",
            " [0.9824455205811139 0.8260210803689064 0.8970275229357797\n",
            "  array([-73.62651092,   9.7030661 ,   5.44548916, -12.43270701,\n",
            "          -8.47618595,   6.57090352,  -0.77388831,   1.330221  ,\n",
            "          -4.01548039,  -7.35822159,   0.72921017,   0.54192219,\n",
            "           0.24323906,  -0.36040345, -11.36481676,   2.19251501,\n",
            "          -1.86540176,  -1.56974093,   3.01209076,  -0.12512785,\n",
            "           0.31033295,  -1.26803323])                           ]\n",
            " [0.9824455205811139 0.8260210803689064 0.8970275229357797\n",
            "  array([-78.2971149 ,   9.70665646,   5.79067712, -12.22961056,\n",
            "          -8.49166762,   6.78354971,  -0.79233522,   1.33853115,\n",
            "          -4.23334198,  -7.69878759,   0.94931977,   0.69752581,\n",
            "           0.33350552,  -0.2062375 , -11.94191889,   2.26521404,\n",
            "          -1.9449086 ,  -1.66130877,   3.11708654,  -0.12472308,\n",
            "           0.2940571 ,  -1.26976001])                           ]\n",
            " [0.9824455205811139 0.8260210803689064 0.8970275229357797\n",
            "  array([-82.85911452,   9.72023631,   6.12783005, -12.13226036,\n",
            "          -8.48984965,   6.82372206,  -0.81023618,   1.36701136,\n",
            "          -4.30148952,  -8.21773317,   0.87024891,   0.68213636,\n",
            "           0.47045547,  -0.47034669, -13.33307277,   2.69942379,\n",
            "          -2.17624577,  -1.7912741 ,   3.67928546,  -0.12460196,\n",
            "           0.27733516,  -1.26989423])                           ]\n",
            " [0.9824455205811139 0.8260210803689064 0.8970275229357797\n",
            "  array([-86.37861252,   9.74551952,   6.38775611, -12.13811245,\n",
            "          -8.48863354,   6.56767422,  -0.78628803,   1.36388673,\n",
            "          -4.04235089,  -8.54706709,   0.83914495,   0.55855621,\n",
            "           0.41404017,  -0.5478208 , -13.75434649,   2.9243041 ,\n",
            "          -2.25036743,  -1.79039989,   3.95897119,  -0.12610967,\n",
            "           0.26158818,  -1.26571079])                           ]\n",
            " [0.9824455205811139 0.8260210803689064 0.8970275229357797\n",
            "  array([-87.39826754,   9.77235329,   6.46269075, -12.14748083,\n",
            "          -8.50078614,   7.67796138,  -0.86613125,   1.3676954 ,\n",
            "          -5.15677756,  -8.64407638,   1.09621176,   0.96732309,\n",
            "           0.41272759,  -0.26837646, -13.4937187 ,   2.71152043,\n",
            "          -2.19594279,  -1.81562621,   3.69240975,  -0.12862461,\n",
            "           0.25456408,  -1.26240773])                           ]\n",
            " [0.9824455205811139 0.8260210803689064 0.8970275229357797\n",
            "  array([-89.19511526,   9.78908162,   6.59551763, -12.14478136,\n",
            "          -8.50820114,   7.69858674,  -0.87537455,   1.37370892,\n",
            "          -5.18141843,  -9.21530496,   1.19618714,   1.02250748,\n",
            "           0.74114689,  -0.39578217, -15.28471301,   3.17836811,\n",
            "          -2.47137045,  -2.00566496,   4.30556088,  -0.12881373,\n",
            "           0.24760352,  -1.26232308])                           ]\n",
            " [0.9824455205811139 0.8260210803689064 0.8970275229357797\n",
            "  array([-90.30442771,   9.84603597,   6.67663269, -12.23640311,\n",
            "          -8.53897801,   7.79364322,  -0.89016942,   1.40357296,\n",
            "          -5.29724408,  -9.50220238,   1.19673584,   1.02635098,\n",
            "           0.86903891,  -0.50689009, -16.16235294,   3.35347227,\n",
            "          -2.61522824,  -2.12951034,   4.54458503,  -0.13358486,\n",
            "           0.23635582,  -1.25465897])                           ]\n",
            " [0.9824455205811139 0.8260210803689064 0.8970275229357797\n",
            "  array([-90.59235198,   9.86775764,   6.69788562, -12.26095859,\n",
            "          -8.57946289,   8.12893513,  -0.89040047,   1.36204884,\n",
            "          -5.58339387, -10.05394474,   1.29626602,   1.16680108,\n",
            "           0.99439401,  -0.56247797, -17.27151885,   3.63954697,\n",
            "          -2.78803534,  -2.25403279,   4.91906984,  -0.1350312 ,\n",
            "           0.2337561 ,  -1.25427602])                           ]]\n"
          ]
        }
      ]
    },
    {
      "cell_type": "code",
      "source": [
        "plt.plot(tab_C, tab_score[:, 0])\n",
        "plt.plot(tab_C, tab_score[:, 1])\n",
        "plt.plot(tab_C, tab_score[:, 2])\n",
        "plt.legend([\"test_precision\", \"test_recall\", \"test_f1\"], loc='upper right', bbox_to_anchor=(1, 0.9))\n",
        "plt.xlabel(\"C\")\n"
      ],
      "metadata": {
        "colab": {
          "base_uri": "https://localhost:8080/",
          "height": 632
        },
        "id": "1x3vRTTvTmI5",
        "outputId": "337e77f3-28bb-40c5-e108-c33b175570ec"
      },
      "execution_count": null,
      "outputs": [
        {
          "output_type": "error",
          "ename": "ValueError",
          "evalue": "ignored",
          "traceback": [
            "\u001b[0;31m---------------------------------------------------------------------------\u001b[0m",
            "\u001b[0;31mValueError\u001b[0m                                Traceback (most recent call last)",
            "\u001b[0;32m<ipython-input-23-2d3553fb3c3e>\u001b[0m in \u001b[0;36m<module>\u001b[0;34m()\u001b[0m\n\u001b[0;32m----> 1\u001b[0;31m \u001b[0mplt\u001b[0m\u001b[0;34m.\u001b[0m\u001b[0mplot\u001b[0m\u001b[0;34m(\u001b[0m\u001b[0mtab_C\u001b[0m\u001b[0;34m,\u001b[0m \u001b[0mtab_score\u001b[0m\u001b[0;34m[\u001b[0m\u001b[0;34m:\u001b[0m\u001b[0;34m,\u001b[0m \u001b[0;36m0\u001b[0m\u001b[0;34m]\u001b[0m\u001b[0;34m)\u001b[0m\u001b[0;34m\u001b[0m\u001b[0;34m\u001b[0m\u001b[0m\n\u001b[0m\u001b[1;32m      2\u001b[0m \u001b[0mplt\u001b[0m\u001b[0;34m.\u001b[0m\u001b[0mplot\u001b[0m\u001b[0;34m(\u001b[0m\u001b[0mtab_C\u001b[0m\u001b[0;34m,\u001b[0m \u001b[0mtab_score\u001b[0m\u001b[0;34m[\u001b[0m\u001b[0;34m:\u001b[0m\u001b[0;34m,\u001b[0m \u001b[0;36m1\u001b[0m\u001b[0;34m]\u001b[0m\u001b[0;34m)\u001b[0m\u001b[0;34m\u001b[0m\u001b[0;34m\u001b[0m\u001b[0m\n\u001b[1;32m      3\u001b[0m \u001b[0mplt\u001b[0m\u001b[0;34m.\u001b[0m\u001b[0mplot\u001b[0m\u001b[0;34m(\u001b[0m\u001b[0mtab_C\u001b[0m\u001b[0;34m,\u001b[0m \u001b[0mtab_score\u001b[0m\u001b[0;34m[\u001b[0m\u001b[0;34m:\u001b[0m\u001b[0;34m,\u001b[0m \u001b[0;36m2\u001b[0m\u001b[0;34m]\u001b[0m\u001b[0;34m)\u001b[0m\u001b[0;34m\u001b[0m\u001b[0;34m\u001b[0m\u001b[0m\n\u001b[1;32m      4\u001b[0m \u001b[0mplt\u001b[0m\u001b[0;34m.\u001b[0m\u001b[0mlegend\u001b[0m\u001b[0;34m(\u001b[0m\u001b[0;34m[\u001b[0m\u001b[0;34m\"test_precision\"\u001b[0m\u001b[0;34m,\u001b[0m \u001b[0;34m\"test_recall\"\u001b[0m\u001b[0;34m,\u001b[0m \u001b[0;34m\"test_f1\"\u001b[0m\u001b[0;34m]\u001b[0m\u001b[0;34m,\u001b[0m \u001b[0mloc\u001b[0m\u001b[0;34m=\u001b[0m\u001b[0;34m'upper right'\u001b[0m\u001b[0;34m,\u001b[0m \u001b[0mbbox_to_anchor\u001b[0m\u001b[0;34m=\u001b[0m\u001b[0;34m(\u001b[0m\u001b[0;36m1\u001b[0m\u001b[0;34m,\u001b[0m \u001b[0;36m0.9\u001b[0m\u001b[0;34m)\u001b[0m\u001b[0;34m)\u001b[0m\u001b[0;34m\u001b[0m\u001b[0;34m\u001b[0m\u001b[0m\n\u001b[1;32m      5\u001b[0m \u001b[0mplt\u001b[0m\u001b[0;34m.\u001b[0m\u001b[0mxlabel\u001b[0m\u001b[0;34m(\u001b[0m\u001b[0;34m\"C\"\u001b[0m\u001b[0;34m)\u001b[0m\u001b[0;34m\u001b[0m\u001b[0;34m\u001b[0m\u001b[0m\n",
            "\u001b[0;32m/usr/local/lib/python3.7/dist-packages/matplotlib/pyplot.py\u001b[0m in \u001b[0;36mplot\u001b[0;34m(scalex, scaley, data, *args, **kwargs)\u001b[0m\n\u001b[1;32m   2761\u001b[0m     return gca().plot(\n\u001b[1;32m   2762\u001b[0m         *args, scalex=scalex, scaley=scaley, **({\"data\": data} if data\n\u001b[0;32m-> 2763\u001b[0;31m         is not None else {}), **kwargs)\n\u001b[0m\u001b[1;32m   2764\u001b[0m \u001b[0;34m\u001b[0m\u001b[0m\n\u001b[1;32m   2765\u001b[0m \u001b[0;34m\u001b[0m\u001b[0m\n",
            "\u001b[0;32m/usr/local/lib/python3.7/dist-packages/matplotlib/axes/_axes.py\u001b[0m in \u001b[0;36mplot\u001b[0;34m(self, scalex, scaley, data, *args, **kwargs)\u001b[0m\n\u001b[1;32m   1645\u001b[0m         \"\"\"\n\u001b[1;32m   1646\u001b[0m         \u001b[0mkwargs\u001b[0m \u001b[0;34m=\u001b[0m \u001b[0mcbook\u001b[0m\u001b[0;34m.\u001b[0m\u001b[0mnormalize_kwargs\u001b[0m\u001b[0;34m(\u001b[0m\u001b[0mkwargs\u001b[0m\u001b[0;34m,\u001b[0m \u001b[0mmlines\u001b[0m\u001b[0;34m.\u001b[0m\u001b[0mLine2D\u001b[0m\u001b[0;34m)\u001b[0m\u001b[0;34m\u001b[0m\u001b[0;34m\u001b[0m\u001b[0m\n\u001b[0;32m-> 1647\u001b[0;31m         \u001b[0mlines\u001b[0m \u001b[0;34m=\u001b[0m \u001b[0;34m[\u001b[0m\u001b[0;34m*\u001b[0m\u001b[0mself\u001b[0m\u001b[0;34m.\u001b[0m\u001b[0m_get_lines\u001b[0m\u001b[0;34m(\u001b[0m\u001b[0;34m*\u001b[0m\u001b[0margs\u001b[0m\u001b[0;34m,\u001b[0m \u001b[0mdata\u001b[0m\u001b[0;34m=\u001b[0m\u001b[0mdata\u001b[0m\u001b[0;34m,\u001b[0m \u001b[0;34m**\u001b[0m\u001b[0mkwargs\u001b[0m\u001b[0;34m)\u001b[0m\u001b[0;34m]\u001b[0m\u001b[0;34m\u001b[0m\u001b[0;34m\u001b[0m\u001b[0m\n\u001b[0m\u001b[1;32m   1648\u001b[0m         \u001b[0;32mfor\u001b[0m \u001b[0mline\u001b[0m \u001b[0;32min\u001b[0m \u001b[0mlines\u001b[0m\u001b[0;34m:\u001b[0m\u001b[0;34m\u001b[0m\u001b[0;34m\u001b[0m\u001b[0m\n\u001b[1;32m   1649\u001b[0m             \u001b[0mself\u001b[0m\u001b[0;34m.\u001b[0m\u001b[0madd_line\u001b[0m\u001b[0;34m(\u001b[0m\u001b[0mline\u001b[0m\u001b[0;34m)\u001b[0m\u001b[0;34m\u001b[0m\u001b[0;34m\u001b[0m\u001b[0m\n",
            "\u001b[0;32m/usr/local/lib/python3.7/dist-packages/matplotlib/axes/_base.py\u001b[0m in \u001b[0;36m__call__\u001b[0;34m(self, *args, **kwargs)\u001b[0m\n\u001b[1;32m    214\u001b[0m                 \u001b[0mthis\u001b[0m \u001b[0;34m+=\u001b[0m \u001b[0margs\u001b[0m\u001b[0;34m[\u001b[0m\u001b[0;36m0\u001b[0m\u001b[0;34m]\u001b[0m\u001b[0;34m,\u001b[0m\u001b[0;34m\u001b[0m\u001b[0;34m\u001b[0m\u001b[0m\n\u001b[1;32m    215\u001b[0m                 \u001b[0margs\u001b[0m \u001b[0;34m=\u001b[0m \u001b[0margs\u001b[0m\u001b[0;34m[\u001b[0m\u001b[0;36m1\u001b[0m\u001b[0;34m:\u001b[0m\u001b[0;34m]\u001b[0m\u001b[0;34m\u001b[0m\u001b[0;34m\u001b[0m\u001b[0m\n\u001b[0;32m--> 216\u001b[0;31m             \u001b[0;32myield\u001b[0m \u001b[0;32mfrom\u001b[0m \u001b[0mself\u001b[0m\u001b[0;34m.\u001b[0m\u001b[0m_plot_args\u001b[0m\u001b[0;34m(\u001b[0m\u001b[0mthis\u001b[0m\u001b[0;34m,\u001b[0m \u001b[0mkwargs\u001b[0m\u001b[0;34m)\u001b[0m\u001b[0;34m\u001b[0m\u001b[0;34m\u001b[0m\u001b[0m\n\u001b[0m\u001b[1;32m    217\u001b[0m \u001b[0;34m\u001b[0m\u001b[0m\n\u001b[1;32m    218\u001b[0m     \u001b[0;32mdef\u001b[0m \u001b[0mget_next_color\u001b[0m\u001b[0;34m(\u001b[0m\u001b[0mself\u001b[0m\u001b[0;34m)\u001b[0m\u001b[0;34m:\u001b[0m\u001b[0;34m\u001b[0m\u001b[0;34m\u001b[0m\u001b[0m\n",
            "\u001b[0;32m/usr/local/lib/python3.7/dist-packages/matplotlib/axes/_base.py\u001b[0m in \u001b[0;36m_plot_args\u001b[0;34m(self, tup, kwargs)\u001b[0m\n\u001b[1;32m    340\u001b[0m \u001b[0;34m\u001b[0m\u001b[0m\n\u001b[1;32m    341\u001b[0m         \u001b[0;32mif\u001b[0m \u001b[0mx\u001b[0m\u001b[0;34m.\u001b[0m\u001b[0mshape\u001b[0m\u001b[0;34m[\u001b[0m\u001b[0;36m0\u001b[0m\u001b[0;34m]\u001b[0m \u001b[0;34m!=\u001b[0m \u001b[0my\u001b[0m\u001b[0;34m.\u001b[0m\u001b[0mshape\u001b[0m\u001b[0;34m[\u001b[0m\u001b[0;36m0\u001b[0m\u001b[0;34m]\u001b[0m\u001b[0;34m:\u001b[0m\u001b[0;34m\u001b[0m\u001b[0;34m\u001b[0m\u001b[0m\n\u001b[0;32m--> 342\u001b[0;31m             raise ValueError(f\"x and y must have same first dimension, but \"\n\u001b[0m\u001b[1;32m    343\u001b[0m                              f\"have shapes {x.shape} and {y.shape}\")\n\u001b[1;32m    344\u001b[0m         \u001b[0;32mif\u001b[0m \u001b[0mx\u001b[0m\u001b[0;34m.\u001b[0m\u001b[0mndim\u001b[0m \u001b[0;34m>\u001b[0m \u001b[0;36m2\u001b[0m \u001b[0;32mor\u001b[0m \u001b[0my\u001b[0m\u001b[0;34m.\u001b[0m\u001b[0mndim\u001b[0m \u001b[0;34m>\u001b[0m \u001b[0;36m2\u001b[0m\u001b[0;34m:\u001b[0m\u001b[0;34m\u001b[0m\u001b[0;34m\u001b[0m\u001b[0m\n",
            "\u001b[0;31mValueError\u001b[0m: x and y must have same first dimension, but have shapes (20,) and (10,)"
          ]
        },
        {
          "output_type": "display_data",
          "data": {
            "text/plain": [
              "<Figure size 432x288 with 1 Axes>"
            ],
            "image/png": "[encoded data removed]"
          },
          "metadata": {
            "needs_background": "light"
          }
        }
      ]
    },
    {
      "cell_type": "code",
      "source": [
        "matrix_coeff = np.stack(tab_score[:, 3], axis=0)\n",
        "print(matrix_coeff)\n",
        "print(matrix_coeff.shape)\n",
        "\n",
        "ax = plt.subplot(111)\n",
        "NUM_COLORS = matrix_coeff.shape[1]\n",
        "LINE_STYLES = ['solid', 'dashed', 'dashdot', 'dotted']\n",
        "NUM_STYLES = len(LINE_STYLES)\n",
        "cm = plt.get_cmap('Set1')\n",
        "\n",
        "for i in range(0, matrix_coeff.shape[1]):\n",
        "    lines = ax.plot(tab_C, matrix_coeff[:, i])\n",
        "    lines[0].set_color(cm(i//NUM_STYLES))\n",
        "    lines[0].set_linestyle(LINE_STYLES[i%NUM_STYLES])\n",
        "\n",
        "plt.xlabel(\"C\")\n",
        "\n",
        "box = ax.get_position()\n",
        "ax.set_position([box.x0, box.y0, box.width * 0.95, box.height])\n",
        "ax.legend(np.arange(0, matrix_coeff.shape[1]), loc='center left', bbox_to_anchor=(1, 0.5))\n",
        "\n",
        "plt.savefig(\"cross_validation_C_coeff.pdf\", format=\"pdf\")\n",
        "plt.show()"
      ],
      "metadata": {
        "colab": {
          "base_uri": "https://localhost:8080/",
          "height": 1000
        },
        "id": "dqgoynHMTxeR",
        "outputId": "038329bd-a4b7-43e4-d8f5-d68331a0ce46"
      },
      "execution_count": null,
      "outputs": [
        {
          "output_type": "stream",
          "name": "stdout",
          "text": [
            "[[-6.43248041e+01  9.67914475e+00  4.75846322e+00 -1.25764550e+01\n",
            "  -8.46643387e+00  5.97318558e+00 -7.19443758e-01  1.29883369e+00\n",
            "  -3.38760030e+00 -6.63705182e+00  4.68461335e-01  2.73112849e-01\n",
            "   6.72677763e-02 -4.62570114e-01 -1.00796623e+01  2.00166084e+00\n",
            "  -1.68020267e+00 -1.38512459e+00  2.74541798e+00 -1.24681989e-01\n",
            "   3.46408394e-01 -1.26815689e+00]\n",
            " [-6.89471849e+01  9.69050643e+00  5.09972679e+00 -1.24616578e+01\n",
            "  -8.46543285e+00  6.24858872e+00 -7.52122149e-01  1.32219465e+00\n",
            "  -3.68667247e+00 -6.93115799e+00  5.98528228e-01  4.06841678e-01\n",
            "   1.37089563e-01 -3.96923266e-01 -1.05965375e+01  2.05999806e+00\n",
            "  -1.74715850e+00 -1.46232664e+00  2.82858862e+00 -1.24925769e-01\n",
            "   3.28104653e-01 -1.26806398e+00]\n",
            " [-7.36265109e+01  9.70306610e+00  5.44548916e+00 -1.24327070e+01\n",
            "  -8.47618595e+00  6.57090352e+00 -7.73888314e-01  1.33022100e+00\n",
            "  -4.01548039e+00 -7.35822159e+00  7.29210167e-01  5.41922186e-01\n",
            "   2.43239064e-01 -3.60403453e-01 -1.13648168e+01  2.19251501e+00\n",
            "  -1.86540176e+00 -1.56974093e+00  3.01209076e+00 -1.25127846e-01\n",
            "   3.10332947e-01 -1.26803323e+00]\n",
            " [-7.82971149e+01  9.70665646e+00  5.79067712e+00 -1.22296106e+01\n",
            "  -8.49166762e+00  6.78354971e+00 -7.92335224e-01  1.33853115e+00\n",
            "  -4.23334198e+00 -7.69878759e+00  9.49319768e-01  6.97525809e-01\n",
            "   3.33505516e-01 -2.06237503e-01 -1.19419189e+01  2.26521404e+00\n",
            "  -1.94490860e+00 -1.66130877e+00  3.11708654e+00 -1.24723082e-01\n",
            "   2.94057097e-01 -1.26976001e+00]\n",
            " [-8.28591145e+01  9.72023631e+00  6.12783005e+00 -1.21322604e+01\n",
            "  -8.48984965e+00  6.82372206e+00 -8.10236180e-01  1.36701136e+00\n",
            "  -4.30148952e+00 -8.21773317e+00  8.70248915e-01  6.82136355e-01\n",
            "   4.70455467e-01 -4.70346695e-01 -1.33330728e+01  2.69942379e+00\n",
            "  -2.17624577e+00 -1.79127410e+00  3.67928546e+00 -1.24601964e-01\n",
            "   2.77335156e-01 -1.26989423e+00]\n",
            " [-8.63786125e+01  9.74551952e+00  6.38775611e+00 -1.21381124e+01\n",
            "  -8.48863354e+00  6.56767422e+00 -7.86288035e-01  1.36388673e+00\n",
            "  -4.04235089e+00 -8.54706709e+00  8.39144945e-01  5.58556207e-01\n",
            "   4.14040167e-01 -5.47820800e-01 -1.37543465e+01  2.92430410e+00\n",
            "  -2.25036743e+00 -1.79039989e+00  3.95897119e+00 -1.26109671e-01\n",
            "   2.61588176e-01 -1.26571079e+00]\n",
            " [-8.73982675e+01  9.77235329e+00  6.46269075e+00 -1.21474808e+01\n",
            "  -8.50078614e+00  7.67796138e+00 -8.66131253e-01  1.36769540e+00\n",
            "  -5.15677756e+00 -8.64407638e+00  1.09621176e+00  9.67323095e-01\n",
            "   4.12727595e-01 -2.68376459e-01 -1.34937187e+01  2.71152043e+00\n",
            "  -2.19594279e+00 -1.81562621e+00  3.69240975e+00 -1.28624611e-01\n",
            "   2.54564079e-01 -1.26240773e+00]\n",
            " [-8.91951153e+01  9.78908162e+00  6.59551763e+00 -1.21447814e+01\n",
            "  -8.50820114e+00  7.69858674e+00 -8.75374547e-01  1.37370892e+00\n",
            "  -5.18141843e+00 -9.21530496e+00  1.19618714e+00  1.02250748e+00\n",
            "   7.41146894e-01 -3.95782173e-01 -1.52847130e+01  3.17836811e+00\n",
            "  -2.47137045e+00 -2.00566496e+00  4.30556088e+00 -1.28813728e-01\n",
            "   2.47603517e-01 -1.26232308e+00]\n",
            " [-9.03044277e+01  9.84603597e+00  6.67663269e+00 -1.22364031e+01\n",
            "  -8.53897801e+00  7.79364322e+00 -8.90169422e-01  1.40357296e+00\n",
            "  -5.29724408e+00 -9.50220238e+00  1.19673584e+00  1.02635098e+00\n",
            "   8.69038908e-01 -5.06890088e-01 -1.61623529e+01  3.35347227e+00\n",
            "  -2.61522824e+00 -2.12951034e+00  4.54458503e+00 -1.33584856e-01\n",
            "   2.36355823e-01 -1.25465897e+00]\n",
            " [-9.05923520e+01  9.86775764e+00  6.69788562e+00 -1.22609586e+01\n",
            "  -8.57946289e+00  8.12893513e+00 -8.90400469e-01  1.36204884e+00\n",
            "  -5.58339387e+00 -1.00539447e+01  1.29626602e+00  1.16680108e+00\n",
            "   9.94394006e-01 -5.62477966e-01 -1.72715188e+01  3.63954697e+00\n",
            "  -2.78803534e+00 -2.25403279e+00  4.91906984e+00 -1.35031202e-01\n",
            "   2.33756103e-01 -1.25427602e+00]]\n",
            "(10, 22)\n"
          ]
        },
        {
          "output_type": "error",
          "ename": "ValueError",
          "evalue": "ignored",
          "traceback": [
            "\u001b[0;31m---------------------------------------------------------------------------\u001b[0m",
            "\u001b[0;31mValueError\u001b[0m                                Traceback (most recent call last)",
            "\u001b[0;32m<ipython-input-22-4a2a6561b3a8>\u001b[0m in \u001b[0;36m<module>\u001b[0;34m()\u001b[0m\n\u001b[1;32m     10\u001b[0m \u001b[0;34m\u001b[0m\u001b[0m\n\u001b[1;32m     11\u001b[0m \u001b[0;32mfor\u001b[0m \u001b[0mi\u001b[0m \u001b[0;32min\u001b[0m \u001b[0mrange\u001b[0m\u001b[0;34m(\u001b[0m\u001b[0;36m0\u001b[0m\u001b[0;34m,\u001b[0m \u001b[0mmatrix_coeff\u001b[0m\u001b[0;34m.\u001b[0m\u001b[0mshape\u001b[0m\u001b[0;34m[\u001b[0m\u001b[0;36m1\u001b[0m\u001b[0;34m]\u001b[0m\u001b[0;34m)\u001b[0m\u001b[0;34m:\u001b[0m\u001b[0;34m\u001b[0m\u001b[0;34m\u001b[0m\u001b[0m\n\u001b[0;32m---> 12\u001b[0;31m     \u001b[0mlines\u001b[0m \u001b[0;34m=\u001b[0m \u001b[0max\u001b[0m\u001b[0;34m.\u001b[0m\u001b[0mplot\u001b[0m\u001b[0;34m(\u001b[0m\u001b[0mtab_C\u001b[0m\u001b[0;34m,\u001b[0m \u001b[0mmatrix_coeff\u001b[0m\u001b[0;34m[\u001b[0m\u001b[0;34m:\u001b[0m\u001b[0;34m,\u001b[0m \u001b[0mi\u001b[0m\u001b[0;34m]\u001b[0m\u001b[0;34m)\u001b[0m\u001b[0;34m\u001b[0m\u001b[0;34m\u001b[0m\u001b[0m\n\u001b[0m\u001b[1;32m     13\u001b[0m     \u001b[0mlines\u001b[0m\u001b[0;34m[\u001b[0m\u001b[0;36m0\u001b[0m\u001b[0;34m]\u001b[0m\u001b[0;34m.\u001b[0m\u001b[0mset_color\u001b[0m\u001b[0;34m(\u001b[0m\u001b[0mcm\u001b[0m\u001b[0;34m(\u001b[0m\u001b[0mi\u001b[0m\u001b[0;34m//\u001b[0m\u001b[0mNUM_STYLES\u001b[0m\u001b[0;34m)\u001b[0m\u001b[0;34m)\u001b[0m\u001b[0;34m\u001b[0m\u001b[0;34m\u001b[0m\u001b[0m\n\u001b[1;32m     14\u001b[0m     \u001b[0mlines\u001b[0m\u001b[0;34m[\u001b[0m\u001b[0;36m0\u001b[0m\u001b[0;34m]\u001b[0m\u001b[0;34m.\u001b[0m\u001b[0mset_linestyle\u001b[0m\u001b[0;34m(\u001b[0m\u001b[0mLINE_STYLES\u001b[0m\u001b[0;34m[\u001b[0m\u001b[0mi\u001b[0m\u001b[0;34m%\u001b[0m\u001b[0mNUM_STYLES\u001b[0m\u001b[0;34m]\u001b[0m\u001b[0;34m)\u001b[0m\u001b[0;34m\u001b[0m\u001b[0;34m\u001b[0m\u001b[0m\n",
            "\u001b[0;32m/usr/local/lib/python3.7/dist-packages/matplotlib/axes/_axes.py\u001b[0m in \u001b[0;36mplot\u001b[0;34m(self, scalex, scaley, data, *args, **kwargs)\u001b[0m\n\u001b[1;32m   1645\u001b[0m         \"\"\"\n\u001b[1;32m   1646\u001b[0m         \u001b[0mkwargs\u001b[0m \u001b[0;34m=\u001b[0m \u001b[0mcbook\u001b[0m\u001b[0;34m.\u001b[0m\u001b[0mnormalize_kwargs\u001b[0m\u001b[0;34m(\u001b[0m\u001b[0mkwargs\u001b[0m\u001b[0;34m,\u001b[0m \u001b[0mmlines\u001b[0m\u001b[0;34m.\u001b[0m\u001b[0mLine2D\u001b[0m\u001b[0;34m)\u001b[0m\u001b[0;34m\u001b[0m\u001b[0;34m\u001b[0m\u001b[0m\n\u001b[0;32m-> 1647\u001b[0;31m         \u001b[0mlines\u001b[0m \u001b[0;34m=\u001b[0m \u001b[0;34m[\u001b[0m\u001b[0;34m*\u001b[0m\u001b[0mself\u001b[0m\u001b[0;34m.\u001b[0m\u001b[0m_get_lines\u001b[0m\u001b[0;34m(\u001b[0m\u001b[0;34m*\u001b[0m\u001b[0margs\u001b[0m\u001b[0;34m,\u001b[0m \u001b[0mdata\u001b[0m\u001b[0;34m=\u001b[0m\u001b[0mdata\u001b[0m\u001b[0;34m,\u001b[0m \u001b[0;34m**\u001b[0m\u001b[0mkwargs\u001b[0m\u001b[0;34m)\u001b[0m\u001b[0;34m]\u001b[0m\u001b[0;34m\u001b[0m\u001b[0;34m\u001b[0m\u001b[0m\n\u001b[0m\u001b[1;32m   1648\u001b[0m         \u001b[0;32mfor\u001b[0m \u001b[0mline\u001b[0m \u001b[0;32min\u001b[0m \u001b[0mlines\u001b[0m\u001b[0;34m:\u001b[0m\u001b[0;34m\u001b[0m\u001b[0;34m\u001b[0m\u001b[0m\n\u001b[1;32m   1649\u001b[0m             \u001b[0mself\u001b[0m\u001b[0;34m.\u001b[0m\u001b[0madd_line\u001b[0m\u001b[0;34m(\u001b[0m\u001b[0mline\u001b[0m\u001b[0;34m)\u001b[0m\u001b[0;34m\u001b[0m\u001b[0;34m\u001b[0m\u001b[0m\n",
            "\u001b[0;32m/usr/local/lib/python3.7/dist-packages/matplotlib/axes/_base.py\u001b[0m in \u001b[0;36m__call__\u001b[0;34m(self, *args, **kwargs)\u001b[0m\n\u001b[1;32m    214\u001b[0m                 \u001b[0mthis\u001b[0m \u001b[0;34m+=\u001b[0m \u001b[0margs\u001b[0m\u001b[0;34m[\u001b[0m\u001b[0;36m0\u001b[0m\u001b[0;34m]\u001b[0m\u001b[0;34m,\u001b[0m\u001b[0;34m\u001b[0m\u001b[0;34m\u001b[0m\u001b[0m\n\u001b[1;32m    215\u001b[0m                 \u001b[0margs\u001b[0m \u001b[0;34m=\u001b[0m \u001b[0margs\u001b[0m\u001b[0;34m[\u001b[0m\u001b[0;36m1\u001b[0m\u001b[0;34m:\u001b[0m\u001b[0;34m]\u001b[0m\u001b[0;34m\u001b[0m\u001b[0;34m\u001b[0m\u001b[0m\n\u001b[0;32m--> 216\u001b[0;31m             \u001b[0;32myield\u001b[0m \u001b[0;32mfrom\u001b[0m \u001b[0mself\u001b[0m\u001b[0;34m.\u001b[0m\u001b[0m_plot_args\u001b[0m\u001b[0;34m(\u001b[0m\u001b[0mthis\u001b[0m\u001b[0;34m,\u001b[0m \u001b[0mkwargs\u001b[0m\u001b[0;34m)\u001b[0m\u001b[0;34m\u001b[0m\u001b[0;34m\u001b[0m\u001b[0m\n\u001b[0m\u001b[1;32m    217\u001b[0m \u001b[0;34m\u001b[0m\u001b[0m\n\u001b[1;32m    218\u001b[0m     \u001b[0;32mdef\u001b[0m \u001b[0mget_next_color\u001b[0m\u001b[0;34m(\u001b[0m\u001b[0mself\u001b[0m\u001b[0;34m)\u001b[0m\u001b[0;34m:\u001b[0m\u001b[0;34m\u001b[0m\u001b[0;34m\u001b[0m\u001b[0m\n",
            "\u001b[0;32m/usr/local/lib/python3.7/dist-packages/matplotlib/axes/_base.py\u001b[0m in \u001b[0;36m_plot_args\u001b[0;34m(self, tup, kwargs)\u001b[0m\n\u001b[1;32m    340\u001b[0m \u001b[0;34m\u001b[0m\u001b[0m\n\u001b[1;32m    341\u001b[0m         \u001b[0;32mif\u001b[0m \u001b[0mx\u001b[0m\u001b[0;34m.\u001b[0m\u001b[0mshape\u001b[0m\u001b[0;34m[\u001b[0m\u001b[0;36m0\u001b[0m\u001b[0;34m]\u001b[0m \u001b[0;34m!=\u001b[0m \u001b[0my\u001b[0m\u001b[0;34m.\u001b[0m\u001b[0mshape\u001b[0m\u001b[0;34m[\u001b[0m\u001b[0;36m0\u001b[0m\u001b[0;34m]\u001b[0m\u001b[0;34m:\u001b[0m\u001b[0;34m\u001b[0m\u001b[0;34m\u001b[0m\u001b[0m\n\u001b[0;32m--> 342\u001b[0;31m             raise ValueError(f\"x and y must have same first dimension, but \"\n\u001b[0m\u001b[1;32m    343\u001b[0m                              f\"have shapes {x.shape} and {y.shape}\")\n\u001b[1;32m    344\u001b[0m         \u001b[0;32mif\u001b[0m \u001b[0mx\u001b[0m\u001b[0;34m.\u001b[0m\u001b[0mndim\u001b[0m \u001b[0;34m>\u001b[0m \u001b[0;36m2\u001b[0m \u001b[0;32mor\u001b[0m \u001b[0my\u001b[0m\u001b[0;34m.\u001b[0m\u001b[0mndim\u001b[0m \u001b[0;34m>\u001b[0m \u001b[0;36m2\u001b[0m\u001b[0;34m:\u001b[0m\u001b[0;34m\u001b[0m\u001b[0;34m\u001b[0m\u001b[0m\n",
            "\u001b[0;31mValueError\u001b[0m: x and y must have same first dimension, but have shapes (20,) and (10,)"
          ]
        },
        {
          "output_type": "display_data",
          "data": {
            "text/plain": [
              "<Figure size 432x288 with 1 Axes>"
            ],
            "image/png": "[encoded data removed]"
          },
          "metadata": {
            "needs_background": "light"
          }
        }
      ]
    },
    {
      "cell_type": "code",
      "source": [
        "#tab_C = np.logspace(-2, 6, 9)\n",
        "tab_C = [1e6]\n",
        "tab_logC = np.log10(tab_C)\n",
        "print(tab_C)\n",
        "print(tab_logC)\n",
        "\n",
        "tab_score = np.array([apply_logreg_cross_validation_coeff(X_train, y_train, {'penalty':'l1', 'C':C, 'random_state':123456, 'multi_class':\"auto\", 'class_weight':{0:0.044, 1:1-0.044}, 'solver':\"liblinear\", 'max_iter':1000, 'verbose':1}) for C in tab_C])\n",
        "print(tab_score)"
      ],
      "metadata": {
        "colab": {
          "base_uri": "https://localhost:8080/",
          "height": 235
        },
        "id": "-zx-qCmGVE21",
        "outputId": "1e045215-cd15-4f2d-c2cc-acd781b07995"
      },
      "execution_count": null,
      "outputs": [
        {
          "output_type": "error",
          "ename": "NameError",
          "evalue": "ignored",
          "traceback": [
            "\u001b[0;31m---------------------------------------------------------------------------\u001b[0m",
            "\u001b[0;31mNameError\u001b[0m                                 Traceback (most recent call last)",
            "\u001b[0;32m<ipython-input-1-d98f2d0286f7>\u001b[0m in \u001b[0;36m<module>\u001b[0;34m()\u001b[0m\n\u001b[1;32m      1\u001b[0m \u001b[0;31m#tab_C = np.logspace(-2, 6, 9)\u001b[0m\u001b[0;34m\u001b[0m\u001b[0;34m\u001b[0m\u001b[0;34m\u001b[0m\u001b[0m\n\u001b[1;32m      2\u001b[0m \u001b[0mtab_C\u001b[0m \u001b[0;34m=\u001b[0m \u001b[0;34m[\u001b[0m\u001b[0;36m1e6\u001b[0m\u001b[0;34m]\u001b[0m\u001b[0;34m\u001b[0m\u001b[0;34m\u001b[0m\u001b[0m\n\u001b[0;32m----> 3\u001b[0;31m \u001b[0mtab_logC\u001b[0m \u001b[0;34m=\u001b[0m \u001b[0mnp\u001b[0m\u001b[0;34m.\u001b[0m\u001b[0mlog10\u001b[0m\u001b[0;34m(\u001b[0m\u001b[0mtab_C\u001b[0m\u001b[0;34m)\u001b[0m\u001b[0;34m\u001b[0m\u001b[0;34m\u001b[0m\u001b[0m\n\u001b[0m\u001b[1;32m      4\u001b[0m \u001b[0mprint\u001b[0m\u001b[0;34m(\u001b[0m\u001b[0mtab_C\u001b[0m\u001b[0;34m)\u001b[0m\u001b[0;34m\u001b[0m\u001b[0;34m\u001b[0m\u001b[0m\n\u001b[1;32m      5\u001b[0m \u001b[0mprint\u001b[0m\u001b[0;34m(\u001b[0m\u001b[0mtab_logC\u001b[0m\u001b[0;34m)\u001b[0m\u001b[0;34m\u001b[0m\u001b[0;34m\u001b[0m\u001b[0m\n",
            "\u001b[0;31mNameError\u001b[0m: name 'np' is not defined"
          ]
        }
      ]
    }
  ]
}