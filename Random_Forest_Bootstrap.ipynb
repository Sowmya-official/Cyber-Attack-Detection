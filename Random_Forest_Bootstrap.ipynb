{
  "nbformat": 4,
  "nbformat_minor": 0,
  "metadata": {
    "colab": {
      "provenance": []
    },
    "kernelspec": {
      "name": "python3",
      "display_name": "Python 3"
    },
    "language_info": {
      "name": "python"
    }
  },
  "cells": [
    {
      "cell_type": "code",
      "execution_count": null,
      "metadata": {
        "id": "PV4VR0nqdU4e"
      },
      "outputs": [],
      "source": [
        "import numpy as np\n",
        "import pandas as pd\n",
        "from scipy.sparse import csc_matrix\n",
        "import matplotlib.pyplot as plt\n",
        "import matplotlib.dates as mdates\n",
        "import h5py\n",
        "\n",
        "from sklearn import model_selection, feature_selection, utils, ensemble, linear_model, metrics"
      ]
    },
    {
      "cell_type": "code",
      "source": [
        "print(\"Import data\")\n",
        "\n",
        "X = pd.read_hdf('drive/My Drive/data_window_botnet3.h5', key='data')\n",
        "X.reset_index(drop=True, inplace=True)\n",
        "\n",
        "X2 = pd.read_hdf('drive/My Drive/data_window3_botnet3(1).h5', key='data')\n",
        "X2.reset_index(drop=True, inplace=True)\n",
        "\n",
        "X = X.join(X2)\n",
        "\n",
        "X.drop('window_id', axis=1, inplace=True)\n",
        "\n",
        "y = X['Label_<lambda>']\n",
        "X.drop('Label_<lambda>', axis=1, inplace=True)\n",
        "\n",
        "labels = np.load(\"drive/My Drive/data_window_botnet3_labels.npy\",allow_pickle=True)"
      ],
      "metadata": {
        "colab": {
          "base_uri": "https://localhost:8080/"
        },
        "id": "k1t6__X7eRRE",
        "outputId": "8bcd9f5a-f1db-4ab1-8a5f-d1c9c351e662"
      },
      "execution_count": null,
      "outputs": [
        {
          "output_type": "stream",
          "name": "stdout",
          "text": [
            "Import data\n"
          ]
        }
      ]
    },
    {
      "cell_type": "code",
      "source": [
        "print(X.columns.values)\n",
        "print(labels)\n",
        "print(np.where(labels == 'flow=From-Botne')[0][0])\n",
        "\n",
        "y_bin6 = y==np.where(labels == 'flow=From-Botne')[0][0]\n",
        "X_train, X_test, y_train, y_test = model_selection.train_test_split(X, y_bin6, test_size=0.33, random_state=123456)\n",
        "\n",
        "print(X_train.shape)\n",
        "X_train_new, y_train_new = utils.resample(X_train, y_train, n_samples=X_train.shape[0]*20, random_state=123456)\n",
        "print(\"X\",np.unique(X, return_counts=True))\n",
        "#print(\"X_train\", np.unique(x_train, return_counts=True))\n",
        "#print(\"X_test\", np.unique(x_test, return_counts=True))\n",
        "print(\"y\", np.unique(y, return_counts=True))\n",
        "print(\"y_train\", np.unique(y_train_new, return_counts=True))\n",
        "print(\"y_test\", np.unique(y_test, return_counts=True))"
      ],
      "metadata": {
        "colab": {
          "base_uri": "https://localhost:8080/"
        },
        "id": "xaOPQmLLe_V2",
        "outputId": "ffde67bd-a60d-45d3-da5a-a52228f1a15d"
      },
      "execution_count": null,
      "outputs": [
        {
          "output_type": "stream",
          "name": "stdout",
          "text": [
            "['counts' 'Sport_nunique' 'DstAddr_nunique' 'Dport_nunique' 'Dur_sum'\n",
            " 'Dur_mean' 'Dur_std' 'Dur_max' 'Dur_median' 'TotBytes_sum'\n",
            " 'TotBytes_mean' 'TotBytes_std' 'TotBytes_max' 'TotBytes_median'\n",
            " 'SrcBytes_sum' 'SrcBytes_mean' 'SrcBytes_std' 'SrcBytes_max'\n",
            " 'SrcBytes_median' 'Sport_RU' 'DstAddr_RU' 'Dport_RU']\n",
            "['flow=Background' 'flow=From-Norma' 'flow=Normal-V44' 'flow=From-Backg'\n",
            " 'flow=To-Backgro' 'flow=To-Normal-' 'flow=From-Botne']\n",
            "6\n",
            "(1356115, 22)\n",
            "X (array([ -5.53569439,  -5.52772763,  -5.52758795, ..., 718.47440863,\n",
            "       734.57982153, 848.21976477]), array([50265,     1,     1, ...,     1,     1,     1]))\n",
            "y (array([0, 1, 2, 3, 4, 5, 6]), array([1903499,    5483,       5,     986,  112392,     679,    1009]))\n",
            "y_train (array([False,  True]), array([27109184,    13116]))\n",
            "y_test (array([False,  True]), array([667591,    347]))\n"
          ]
        }
      ]
    },
    {
      "cell_type": "code",
      "source": [
        "## Embedded Method\n",
        "print(\"Random Forest Classifier\")\n",
        "\n",
        "clf = ensemble.RandomForestClassifier(n_estimators=100, random_state=123456, verbose=1, class_weight=None)\n",
        "clf.fit(X_train_new, y_train_new)"
      ],
      "metadata": {
        "colab": {
          "base_uri": "https://localhost:8080/"
        },
        "id": "1wE-GaH3sINY",
        "outputId": "5cb1de03-ba45-4502-8c4a-f2533fc56aee"
      },
      "execution_count": null,
      "outputs": [
        {
          "output_type": "stream",
          "name": "stdout",
          "text": [
            "Random Forest Classifier\n"
          ]
        },
        {
          "output_type": "stream",
          "name": "stderr",
          "text": [
            "[Parallel(n_jobs=1)]: Using backend SequentialBackend with 1 concurrent workers.\n",
            "[Parallel(n_jobs=1)]: Done 100 out of 100 | elapsed: 113.4min finished\n"
          ]
        },
        {
          "output_type": "execute_result",
          "data": {
            "text/plain": [
              "RandomForestClassifier(random_state=123456, verbose=1)"
            ]
          },
          "metadata": {},
          "execution_count": 4
        }
      ]
    },
    {
      "cell_type": "code",
      "source": [
        "print(\"Train\")\n",
        "y_pred_train = clf.predict(X_train_new)\n",
        "print(\"accuracy score = \", metrics.balanced_accuracy_score(y_train_new, y_pred_train))\n",
        "precision, recall, fbeta_score, support = metrics.precision_recall_fscore_support(y_train_new, y_pred_train)\n",
        "print(\"precision = \", precision[1])\n",
        "print(\"recall = \", recall[1])\n",
        "print(\"fbeta_score = \", fbeta_score[1])\n",
        "print(\"support = \", support[1])"
      ],
      "metadata": {
        "colab": {
          "base_uri": "https://localhost:8080/"
        },
        "id": "5Q4NW9LAs8cs",
        "outputId": "e08bccc4-20a1-49f5-87bd-48434d7cd6ab"
      },
      "execution_count": null,
      "outputs": [
        {
          "output_type": "stream",
          "name": "stdout",
          "text": [
            "Train\n"
          ]
        },
        {
          "output_type": "stream",
          "name": "stderr",
          "text": [
            "[Parallel(n_jobs=1)]: Using backend SequentialBackend with 1 concurrent workers.\n",
            "[Parallel(n_jobs=1)]: Done 100 out of 100 | elapsed:  3.2min finished\n"
          ]
        },
        {
          "output_type": "stream",
          "name": "stdout",
          "text": [
            "accuracy score =  0.9929094236047575\n",
            "precision =  1.0\n",
            "recall =  0.9858188472095151\n",
            "fbeta_score =  0.9928587882976273\n",
            "support =  13116\n"
          ]
        }
      ]
    },
    {
      "cell_type": "code",
      "source": [
        "print(\"Test\")\n",
        "y_pred_test = clf.predict(X_test)\n",
        "print(\"accuracy score = \", metrics.balanced_accuracy_score(y_test, y_pred_test))\n",
        "precision, recall, fbeta_score, support = metrics.precision_recall_fscore_support(y_test, y_pred_test)\n",
        "print(\"precision = \", precision[1])\n",
        "print(\"recall = \", recall[1])\n",
        "print(\"fbeta_score = \", fbeta_score[1])\n",
        "print(\"support = \", support[1])"
      ],
      "metadata": {
        "colab": {
          "base_uri": "https://localhost:8080/"
        },
        "id": "dwcp_x4QtMvj",
        "outputId": "f8ce0fbd-e5b8-4224-99ae-5dc0e8a6dd0f"
      },
      "execution_count": null,
      "outputs": [
        {
          "output_type": "stream",
          "name": "stdout",
          "text": [
            "Test\n"
          ]
        },
        {
          "output_type": "stream",
          "name": "stderr",
          "text": [
            "[Parallel(n_jobs=1)]: Using backend SequentialBackend with 1 concurrent workers.\n",
            "[Parallel(n_jobs=1)]: Done 100 out of 100 | elapsed:    4.7s finished\n"
          ]
        },
        {
          "output_type": "stream",
          "name": "stdout",
          "text": [
            "accuracy score =  0.9827089337175792\n",
            "precision =  1.0\n",
            "recall =  0.9654178674351584\n",
            "fbeta_score =  0.9824046920821115\n",
            "support =  347\n"
          ]
        }
      ]
    }
  ]
}