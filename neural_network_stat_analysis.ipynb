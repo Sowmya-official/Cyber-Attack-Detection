{
  "nbformat": 4,
  "nbformat_minor": 0,
  "metadata": {
    "colab": {
      "provenance": []
    },
    "kernelspec": {
      "name": "python3",
      "display_name": "Python 3"
    },
    "language_info": {
      "name": "python"
    }
  },
  "cells": [
    {
      "cell_type": "code",
      "execution_count": null,
      "metadata": {
        "id": "yZrG_IJPddgF"
      },
      "outputs": [],
      "source": [
        "import numpy as np\n",
        "import pandas as pd\n",
        "from scipy.sparse import csc_matrix\n",
        "import matplotlib.pyplot as plt\n",
        "import matplotlib.dates as mdates\n",
        "import h5py\n",
        "import time"
      ]
    },
    {
      "cell_type": "code",
      "source": [
        "import tensorflow as tf\n",
        "import tensorflow.keras.backend as K\n",
        "from tensorflow.keras.callbacks import TensorBoard\n",
        "from tensorflow.keras.utils import to_categorical, plot_model\n",
        "from tensorflow.keras.models import Model, Sequential\n",
        "from tensorflow.keras.layers import Input, Conv2D, BatchNormalization, Activation, AveragePooling2D, Dense, Dropout, Flatten, Lambda, MaxPool2D, Conv2DTranspose, UpSampling2D, Concatenate, Add\n",
        "from tensorflow.keras import regularizers, optimizers\n",
        "from keras.preprocessing import image\n",
        "from tensorflow.keras.callbacks import EarlyStopping, ModelCheckpoint, ReduceLROnPlateau\n",
        "\n",
        "from sklearn import model_selection, feature_selection, utils, ensemble, linear_model, metrics"
      ],
      "metadata": {
        "id": "vY2EGjehu65v"
      },
      "execution_count": null,
      "outputs": []
    },
    {
      "cell_type": "code",
      "source": [
        "print(\"Import data\")\n",
        "\n",
        "X = pd.read_hdf('drive/My Drive/data_window_botnet3.h5', key='data')\n",
        "X.reset_index(drop=True, inplace=True)\n",
        "\n",
        "X2 = pd.read_hdf('drive/My Drive/data_window3_botnet3(1).h5', key='data')\n",
        "X2.reset_index(drop=True, inplace=True)\n",
        "\n",
        "X = X.join(X2)\n",
        "\n",
        "X.drop('window_id', axis=1, inplace=True)\n",
        "\n",
        "y = X['Label_<lambda>']\n",
        "X.drop('Label_<lambda>', axis=1, inplace=True)\n",
        "\n",
        "labels = np.load(\"drive/My Drive/data_window_botnet3_labels.npy\",allow_pickle=True)"
      ],
      "metadata": {
        "colab": {
          "base_uri": "https://localhost:8080/"
        },
        "id": "75BaSUkOu9vr",
        "outputId": "f3ebe5e2-8dd5-4074-8688-33d4b9d93c28"
      },
      "execution_count": null,
      "outputs": [
        {
          "output_type": "stream",
          "name": "stdout",
          "text": [
            "Import data\n"
          ]
        }
      ]
    },
    {
      "cell_type": "code",
      "source": [
        "print(X.columns.values)\n",
        "print(labels)\n",
        "print(np.where(labels == 'flow=From-Botne')[0][0])\n",
        "\n",
        "y_bin6 = y==np.where(labels == 'flow=From-Botne')[0][0]\n",
        "print(\"y\", np.unique(y, return_counts=True))"
      ],
      "metadata": {
        "colab": {
          "base_uri": "https://localhost:8080/"
        },
        "id": "vnOomVXTvE52",
        "outputId": "cad0cf30-1e1c-49ad-a6da-e8cd6e83640a"
      },
      "execution_count": null,
      "outputs": [
        {
          "output_type": "stream",
          "name": "stdout",
          "text": [
            "['counts' 'Sport_nunique' 'DstAddr_nunique' 'Dport_nunique' 'Dur_sum'\n",
            " 'Dur_mean' 'Dur_std' 'Dur_max' 'Dur_median' 'TotBytes_sum'\n",
            " 'TotBytes_mean' 'TotBytes_std' 'TotBytes_max' 'TotBytes_median'\n",
            " 'SrcBytes_sum' 'SrcBytes_mean' 'SrcBytes_std' 'SrcBytes_max'\n",
            " 'SrcBytes_median' 'Sport_RU' 'DstAddr_RU' 'Dport_RU']\n",
            "['flow=Background' 'flow=From-Norma' 'flow=Normal-V44' 'flow=From-Backg'\n",
            " 'flow=To-Backgro' 'flow=To-Normal-' 'flow=From-Botne']\n",
            "6\n",
            "y (array([0, 1, 2, 3, 4, 5, 6]), array([1903499,    5483,       5,     986,  112392,     679,    1009]))\n"
          ]
        }
      ]
    },
    {
      "cell_type": "code",
      "source": [
        "## NN\n",
        "filename_weights = \"model.h5\"\n",
        "\n",
        "def fprecision(y_true, y_pred):\t\n",
        "    \"\"\"Precision metric.\t\n",
        "    Only computes a batch-wise average of precision. Computes the precision, a\n",
        "    metric for multi-label classification of how many selected items are\n",
        "    relevant.\n",
        "    \"\"\"\t\n",
        "    true_positives = K.sum(K.round(K.clip(y_true * y_pred, 0, 1)))\t\n",
        "    predicted_positives = K.sum(K.round(K.clip(y_pred, 0, 1)))\t\n",
        "    precision = true_positives / (predicted_positives + K.epsilon())\t\n",
        "    return precision"
      ],
      "metadata": {
        "id": "xpxE6aLuvIWa"
      },
      "execution_count": null,
      "outputs": []
    },
    {
      "cell_type": "code",
      "source": [
        "def frecall(y_true, y_pred):\t\n",
        "    \"\"\"Recall metric.\t\n",
        "    Only computes a batch-wise average of recall. Computes the recall, a metric\n",
        "    for multi-label classification of how many relevant items are selected.\t\n",
        "    \"\"\"\t\n",
        "    true_positives = K.sum(K.round(K.clip(y_true * y_pred, 0, 1)))\t\n",
        "    possible_positives = K.sum(K.round(K.clip(y_true, 0, 1)))\t\n",
        "    recall = true_positives / (possible_positives + K.epsilon())\t\n",
        "    return recall"
      ],
      "metadata": {
        "id": "Qnl6H9brvP4D"
      },
      "execution_count": null,
      "outputs": []
    },
    {
      "cell_type": "code",
      "source": [
        "def ff1_score(y_true, y_pred):\n",
        "    \"\"\"Computes the F1 Score\n",
        "    Only computes a batch-wise average of recall. Computes the recall, a metric\n",
        "    for multi-label classification of how many relevant items are selected.\t\n",
        "    \"\"\"\n",
        "    p = fprecision(y_true, y_pred)\n",
        "    r = frecall(y_true, y_pred)\n",
        "    return (2 * p * r) / (p + r + K.epsilon())"
      ],
      "metadata": {
        "id": "-YsF5X_gvSjU"
      },
      "execution_count": null,
      "outputs": []
    },
    {
      "cell_type": "code",
      "source": [
        "def get_model(inputs, dropout=0.5, batchnorm=True):\n",
        "    x = Dense(256, input_shape=(22,))(inputs)\n",
        "    if batchnorm:\n",
        "        x = BatchNormalization()(x)\n",
        "    x = Activation(\"relu\")(x)\n",
        "    x = Dropout(dropout)(x)\n",
        "\n",
        "    x = Dense(128, input_shape=(256,))(x)\n",
        "    if batchnorm:\n",
        "        x = BatchNormalization()(x)\n",
        "    x = Activation(\"relu\")(x)\n",
        "    x = Dropout(dropout)(x)\n",
        "\n",
        "    x = Dense(1, input_shape=(128,))(x)\n",
        "    outputs = Activation(\"sigmoid\")(x)\n",
        "    \n",
        "    model = Model(inputs=[inputs], outputs=[outputs])\n",
        "    return model"
      ],
      "metadata": {
        "id": "G3h310y2vU1C"
      },
      "execution_count": null,
      "outputs": []
    },
    {
      "cell_type": "code",
      "source": [
        "nb_prediction = 50\n",
        "np.random.seed(seed=123456)\n",
        "tab_seed = np.random.randint(0, 1000000000, nb_prediction)\n",
        "print(tab_seed)\n",
        "\n",
        "tab_train_precision = np.array([0.]*nb_prediction)\n",
        "tab_train_recall = np.array([0.]*nb_prediction)\n",
        "tab_train_fbeta_score = np.array([0.]*nb_prediction)\n",
        "\n",
        "tab_test_precision = np.array([0.]*nb_prediction)\n",
        "tab_test_recall = np.array([0.]*nb_prediction)\n",
        "tab_test_fbeta_score = np.array([0.]*nb_prediction)"
      ],
      "metadata": {
        "colab": {
          "base_uri": "https://localhost:8080/"
        },
        "id": "UqP_H2tMvXSB",
        "outputId": "a0b8697c-0d0f-417a-b6e7-267d8fb19a23"
      },
      "execution_count": null,
      "outputs": [
        {
          "output_type": "stream",
          "name": "stdout",
          "text": [
            "[545331265  64051946 930796018 636193841  44994104 883990699 632376047\n",
            " 123822635 544385883 780062752 370319575 553050788 864905352 385976778\n",
            " 387642634 926825740 528719691 508226068 184796139 357437743 528333490\n",
            " 581730774 850389862 904355447 555943458 826610574 471925446 441274154\n",
            " 302315714 753964207 438316612 682070622 983063469 876566388 115035351\n",
            " 603291380 407092436 139062484 590788013 387585019 441951173 260506609\n",
            " 787917988 628041163 776749475 385983453 140379815 317878160 123195836\n",
            " 263152482]\n"
          ]
        }
      ]
    },
    {
      "cell_type": "code",
      "source": [
        "for i in range(0, nb_prediction):\n",
        "    X_train, X_test, y_train, y_test = model_selection.train_test_split(X, y_bin6, test_size=0.33, random_state=tab_seed[i])\n",
        "\n",
        "    print(i)\n",
        "    print(\"y_train\", np.unique(y_train, return_counts=True))\n",
        "    print(\"y_test\", np.unique(y_test, return_counts=True))\n",
        "\n",
        "    inputs = Input((22,), name='input')\n",
        "    model = get_model(inputs, dropout=0, batchnorm=1)"
      ],
      "metadata": {
        "colab": {
          "base_uri": "https://localhost:8080/"
        },
        "id": "b7JYq4OmvZ5y",
        "outputId": "3487cf1a-af36-4a7f-cb7c-adb4c24defad"
      },
      "execution_count": null,
      "outputs": [
        {
          "output_type": "stream",
          "name": "stdout",
          "text": [
            "0\n",
            "y_train (array([False,  True]), array([1355452,     663]))\n",
            "y_test (array([False,  True]), array([667592,    346]))\n",
            "1\n",
            "y_train (array([False,  True]), array([1355427,     688]))\n",
            "y_test (array([False,  True]), array([667617,    321]))\n",
            "2\n",
            "y_train (array([False,  True]), array([1355426,     689]))\n",
            "y_test (array([False,  True]), array([667618,    320]))\n",
            "3\n",
            "y_train (array([False,  True]), array([1355442,     673]))\n",
            "y_test (array([False,  True]), array([667602,    336]))\n",
            "4\n",
            "y_train (array([False,  True]), array([1355438,     677]))\n",
            "y_test (array([False,  True]), array([667606,    332]))\n",
            "5\n",
            "y_train (array([False,  True]), array([1355478,     637]))\n",
            "y_test (array([False,  True]), array([667566,    372]))\n",
            "6\n",
            "y_train (array([False,  True]), array([1355452,     663]))\n",
            "y_test (array([False,  True]), array([667592,    346]))\n",
            "7\n",
            "y_train (array([False,  True]), array([1355437,     678]))\n",
            "y_test (array([False,  True]), array([667607,    331]))\n",
            "8\n",
            "y_train (array([False,  True]), array([1355440,     675]))\n",
            "y_test (array([False,  True]), array([667604,    334]))\n",
            "9\n",
            "y_train (array([False,  True]), array([1355460,     655]))\n",
            "y_test (array([False,  True]), array([667584,    354]))\n",
            "10\n",
            "y_train (array([False,  True]), array([1355432,     683]))\n",
            "y_test (array([False,  True]), array([667612,    326]))\n",
            "11\n",
            "y_train (array([False,  True]), array([1355436,     679]))\n",
            "y_test (array([False,  True]), array([667608,    330]))\n",
            "12\n",
            "y_train (array([False,  True]), array([1355432,     683]))\n",
            "y_test (array([False,  True]), array([667612,    326]))\n",
            "13\n",
            "y_train (array([False,  True]), array([1355466,     649]))\n",
            "y_test (array([False,  True]), array([667578,    360]))\n",
            "14\n",
            "y_train (array([False,  True]), array([1355468,     647]))\n",
            "y_test (array([False,  True]), array([667576,    362]))\n",
            "15\n",
            "y_train (array([False,  True]), array([1355451,     664]))\n",
            "y_test (array([False,  True]), array([667593,    345]))\n",
            "16\n",
            "y_train (array([False,  True]), array([1355450,     665]))\n",
            "y_test (array([False,  True]), array([667594,    344]))\n",
            "17\n",
            "y_train (array([False,  True]), array([1355429,     686]))\n",
            "y_test (array([False,  True]), array([667615,    323]))\n",
            "18\n",
            "y_train (array([False,  True]), array([1355431,     684]))\n",
            "y_test (array([False,  True]), array([667613,    325]))\n",
            "19\n",
            "y_train (array([False,  True]), array([1355424,     691]))\n",
            "y_test (array([False,  True]), array([667620,    318]))\n",
            "20\n",
            "y_train (array([False,  True]), array([1355426,     689]))\n",
            "y_test (array([False,  True]), array([667618,    320]))\n",
            "21\n",
            "y_train (array([False,  True]), array([1355437,     678]))\n",
            "y_test (array([False,  True]), array([667607,    331]))\n",
            "22\n",
            "y_train (array([False,  True]), array([1355429,     686]))\n",
            "y_test (array([False,  True]), array([667615,    323]))\n",
            "23\n",
            "y_train (array([False,  True]), array([1355452,     663]))\n",
            "y_test (array([False,  True]), array([667592,    346]))\n",
            "24\n",
            "y_train (array([False,  True]), array([1355463,     652]))\n",
            "y_test (array([False,  True]), array([667581,    357]))\n",
            "25\n",
            "y_train (array([False,  True]), array([1355466,     649]))\n",
            "y_test (array([False,  True]), array([667578,    360]))\n",
            "26\n",
            "y_train (array([False,  True]), array([1355453,     662]))\n",
            "y_test (array([False,  True]), array([667591,    347]))\n",
            "27\n",
            "y_train (array([False,  True]), array([1355438,     677]))\n",
            "y_test (array([False,  True]), array([667606,    332]))\n",
            "28\n",
            "y_train (array([False,  True]), array([1355454,     661]))\n",
            "y_test (array([False,  True]), array([667590,    348]))\n",
            "29\n",
            "y_train (array([False,  True]), array([1355423,     692]))\n",
            "y_test (array([False,  True]), array([667621,    317]))\n",
            "30\n",
            "y_train (array([False,  True]), array([1355439,     676]))\n",
            "y_test (array([False,  True]), array([667605,    333]))\n",
            "31\n",
            "y_train (array([False,  True]), array([1355440,     675]))\n",
            "y_test (array([False,  True]), array([667604,    334]))\n",
            "32\n",
            "y_train (array([False,  True]), array([1355456,     659]))\n",
            "y_test (array([False,  True]), array([667588,    350]))\n",
            "33\n",
            "y_train (array([False,  True]), array([1355444,     671]))\n",
            "y_test (array([False,  True]), array([667600,    338]))\n",
            "34\n",
            "y_train (array([False,  True]), array([1355433,     682]))\n",
            "y_test (array([False,  True]), array([667611,    327]))\n",
            "35\n",
            "y_train (array([False,  True]), array([1355456,     659]))\n",
            "y_test (array([False,  True]), array([667588,    350]))\n",
            "36\n",
            "y_train (array([False,  True]), array([1355451,     664]))\n",
            "y_test (array([False,  True]), array([667593,    345]))\n",
            "37\n",
            "y_train (array([False,  True]), array([1355433,     682]))\n",
            "y_test (array([False,  True]), array([667611,    327]))\n",
            "38\n",
            "y_train (array([False,  True]), array([1355436,     679]))\n",
            "y_test (array([False,  True]), array([667608,    330]))\n",
            "39\n",
            "y_train (array([False,  True]), array([1355444,     671]))\n",
            "y_test (array([False,  True]), array([667600,    338]))\n",
            "40\n",
            "y_train (array([False,  True]), array([1355451,     664]))\n",
            "y_test (array([False,  True]), array([667593,    345]))\n",
            "41\n",
            "y_train (array([False,  True]), array([1355444,     671]))\n",
            "y_test (array([False,  True]), array([667600,    338]))\n",
            "42\n",
            "y_train (array([False,  True]), array([1355438,     677]))\n",
            "y_test (array([False,  True]), array([667606,    332]))\n",
            "43\n",
            "y_train (array([False,  True]), array([1355433,     682]))\n",
            "y_test (array([False,  True]), array([667611,    327]))\n",
            "44\n",
            "y_train (array([False,  True]), array([1355442,     673]))\n",
            "y_test (array([False,  True]), array([667602,    336]))\n",
            "45\n",
            "y_train (array([False,  True]), array([1355414,     701]))\n",
            "y_test (array([False,  True]), array([667630,    308]))\n",
            "46\n",
            "y_train (array([False,  True]), array([1355442,     673]))\n",
            "y_test (array([False,  True]), array([667602,    336]))\n",
            "47\n",
            "y_train (array([False,  True]), array([1355428,     687]))\n",
            "y_test (array([False,  True]), array([667616,    322]))\n",
            "48\n",
            "y_train (array([False,  True]), array([1355444,     671]))\n",
            "y_test (array([False,  True]), array([667600,    338]))\n",
            "49\n",
            "y_train (array([False,  True]), array([1355420,     695]))\n",
            "y_test (array([False,  True]), array([667624,    314]))\n"
          ]
        }
      ]
    },
    {
      "cell_type": "code",
      "source": [
        "    callbacks = [\n",
        "        ModelCheckpoint(filename_weights, verbose=1, save_best_only=True, save_weights_only=True)\n",
        "    ]\n",
        "\n",
        "    model.compile(optimizer=optimizers.Adam(lr=1e-3), loss=[\"binary_crossentropy\"], metrics=[fprecision, frecall, ff1_score])\n",
        "    #model.summary()\n",
        "\n",
        "    tps = time.time()\n",
        "    results = model.fit(X_train, y_train, batch_size=32, epochs=20, validation_split=0.15, shuffle=True, class_weight=None, verbose=0, callbacks=callbacks)\n",
        "    print(\"Execution time = \", time.time()-tps)\n",
        "\n",
        "    model.load_weights(filename_weights)"
      ],
      "metadata": {
        "colab": {
          "base_uri": "https://localhost:8080/"
        },
        "id": "Dn7nsGe1vfEA",
        "outputId": "631de117-3fbd-488c-a38d-bd0a19b8a5f6"
      },
      "execution_count": null,
      "outputs": [
        {
          "output_type": "stream",
          "name": "stderr",
          "text": [
            "/usr/local/lib/python3.7/dist-packages/keras/optimizer_v2/adam.py:105: UserWarning: The `lr` argument is deprecated, use `learning_rate` instead.\n",
            "  super(Adam, self).__init__(name, **kwargs)\n"
          ]
        },
        {
          "output_type": "stream",
          "name": "stdout",
          "text": [
            "\n",
            "Epoch 1: val_loss improved from inf to 0.00214, saving model to model.h5\n",
            "\n",
            "Epoch 2: val_loss did not improve from 0.00214\n",
            "\n",
            "Epoch 3: val_loss improved from 0.00214 to 0.00070, saving model to model.h5\n",
            "\n",
            "Epoch 4: val_loss did not improve from 0.00070\n",
            "\n",
            "Epoch 5: val_loss did not improve from 0.00070\n",
            "\n",
            "Epoch 6: val_loss improved from 0.00070 to 0.00064, saving model to model.h5\n",
            "\n",
            "Epoch 7: val_loss did not improve from 0.00064\n",
            "\n",
            "Epoch 8: val_loss did not improve from 0.00064\n",
            "\n",
            "Epoch 9: val_loss did not improve from 0.00064\n",
            "\n",
            "Epoch 10: val_loss did not improve from 0.00064\n",
            "\n",
            "Epoch 11: val_loss did not improve from 0.00064\n",
            "\n",
            "Epoch 12: val_loss did not improve from 0.00064\n",
            "\n",
            "Epoch 13: val_loss did not improve from 0.00064\n",
            "\n",
            "Epoch 14: val_loss did not improve from 0.00064\n",
            "\n",
            "Epoch 15: val_loss did not improve from 0.00064\n",
            "\n",
            "Epoch 16: val_loss did not improve from 0.00064\n",
            "\n",
            "Epoch 17: val_loss did not improve from 0.00064\n",
            "\n",
            "Epoch 18: val_loss did not improve from 0.00064\n",
            "\n",
            "Epoch 19: val_loss did not improve from 0.00064\n",
            "\n",
            "Epoch 20: val_loss did not improve from 0.00064\n",
            "Execution time =  1704.0006692409515\n"
          ]
        }
      ]
    },
    {
      "cell_type": "code",
      "source": [
        "    y_pred_train = model.predict(X_train, batch_size=32, verbose=0)\n",
        "    y_pred_train_bin = (y_pred_train > 0.5).astype(np.uint8)\n",
        "    precision, recall, fbeta_score, support = metrics.precision_recall_fscore_support(y_train, y_pred_train_bin)\n",
        "    tab_train_precision[i] = precision[1]\n",
        "    tab_train_recall[i] = recall[1]\n",
        "    tab_train_fbeta_score[i] = fbeta_score[1]"
      ],
      "metadata": {
        "id": "WdfEDvG6vj0s"
      },
      "execution_count": null,
      "outputs": []
    },
    {
      "cell_type": "code",
      "source": [
        "    y_pred_test = model.predict(X_test, batch_size=32, verbose=0)\n",
        "    y_pred_test_bin = (y_pred_test > 0.5).astype(np.uint8)\n",
        "    precision, recall, fbeta_score, support = metrics.precision_recall_fscore_support(y_test, y_pred_test_bin)\n",
        "    tab_test_precision[i] = precision[1]\n",
        "    tab_test_recall[i] = recall[1]\n",
        "    tab_test_fbeta_score[i] = fbeta_score[1]"
      ],
      "metadata": {
        "id": "UEd_PYg5vmg9"
      },
      "execution_count": null,
      "outputs": []
    },
    {
      "cell_type": "code",
      "source": [
        "print(\"Train\")\n",
        "print(\"precision = \", tab_train_precision.mean(), tab_train_precision.std(), tab_train_precision)\n",
        "print(\"recall = \", tab_train_recall.mean(), tab_train_recall.std(), tab_train_recall)\n",
        "print(\"fbeta_score = \", tab_train_fbeta_score.mean(), tab_train_fbeta_score.std(), tab_train_fbeta_score)\n",
        "\n",
        "print(\"Test\")\n",
        "print(\"precision = \", tab_test_precision.mean(), tab_test_precision.std(), tab_test_precision)\n",
        "print(\"recall = \", tab_test_recall.mean(), tab_test_recall.std(), tab_test_recall)\n",
        "print(\"fbeta_score = \", tab_test_fbeta_score.mean(), tab_test_fbeta_score.std(), tab_test_fbeta_score)"
      ],
      "metadata": {
        "colab": {
          "base_uri": "https://localhost:8080/"
        },
        "id": "-keF1KHjvpGZ",
        "outputId": "2aaa9bd2-95d8-472c-9f64-fc46b31659ce"
      },
      "execution_count": null,
      "outputs": [
        {
          "output_type": "stream",
          "name": "stdout",
          "text": [
            "Train\n",
            "precision =  0.019763912310286676 0.13834738617200676 [0.         0.         0.         0.         0.         0.\n",
            " 0.         0.         0.         0.         0.         0.\n",
            " 0.         0.         0.         0.         0.         0.\n",
            " 0.         0.         0.         0.         0.         0.\n",
            " 0.         0.         0.         0.         0.         0.\n",
            " 0.         0.         0.         0.         0.         0.\n",
            " 0.         0.         0.         0.         0.         0.\n",
            " 0.         0.         0.         0.         0.         0.\n",
            " 0.         0.98819562]\n",
            "recall =  0.016863309352517987 0.1180431654676259 [0.         0.         0.         0.         0.         0.\n",
            " 0.         0.         0.         0.         0.         0.\n",
            " 0.         0.         0.         0.         0.         0.\n",
            " 0.         0.         0.         0.         0.         0.\n",
            " 0.         0.         0.         0.         0.         0.\n",
            " 0.         0.         0.         0.         0.         0.\n",
            " 0.         0.         0.         0.         0.         0.\n",
            " 0.         0.         0.         0.         0.         0.\n",
            " 0.         0.84316547]\n",
            "fbeta_score =  0.018198757763975157 0.12739130434782608 [0.         0.         0.         0.         0.         0.\n",
            " 0.         0.         0.         0.         0.         0.\n",
            " 0.         0.         0.         0.         0.         0.\n",
            " 0.         0.         0.         0.         0.         0.\n",
            " 0.         0.         0.         0.         0.         0.\n",
            " 0.         0.         0.         0.         0.         0.\n",
            " 0.         0.         0.         0.         0.         0.\n",
            " 0.         0.         0.         0.         0.         0.\n",
            " 0.         0.90993789]\n",
            "Test\n",
            "precision =  0.019781021897810218 0.13846715328467155 [0.         0.         0.         0.         0.         0.\n",
            " 0.         0.         0.         0.         0.         0.\n",
            " 0.         0.         0.         0.         0.         0.\n",
            " 0.         0.         0.         0.         0.         0.\n",
            " 0.         0.         0.         0.         0.         0.\n",
            " 0.         0.         0.         0.         0.         0.\n",
            " 0.         0.         0.         0.         0.         0.\n",
            " 0.         0.         0.         0.         0.         0.\n",
            " 0.         0.98905109]\n",
            "recall =  0.01726114649681529 0.12082802547770702 [0.         0.         0.         0.         0.         0.\n",
            " 0.         0.         0.         0.         0.         0.\n",
            " 0.         0.         0.         0.         0.         0.\n",
            " 0.         0.         0.         0.         0.         0.\n",
            " 0.         0.         0.         0.         0.         0.\n",
            " 0.         0.         0.         0.         0.         0.\n",
            " 0.         0.         0.         0.         0.         0.\n",
            " 0.         0.         0.         0.         0.         0.\n",
            " 0.         0.86305732]\n",
            "fbeta_score =  0.018435374149659862 0.12904761904761902 [0.         0.         0.         0.         0.         0.\n",
            " 0.         0.         0.         0.         0.         0.\n",
            " 0.         0.         0.         0.         0.         0.\n",
            " 0.         0.         0.         0.         0.         0.\n",
            " 0.         0.         0.         0.         0.         0.\n",
            " 0.         0.         0.         0.         0.         0.\n",
            " 0.         0.         0.         0.         0.         0.\n",
            " 0.         0.         0.         0.         0.         0.\n",
            " 0.         0.92176871]\n"
          ]
        }
      ]
    }
  ]
}